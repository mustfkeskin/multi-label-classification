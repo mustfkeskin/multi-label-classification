{
 "cells": [
  {
   "cell_type": "code",
   "execution_count": 1,
   "metadata": {},
   "outputs": [],
   "source": [
    "import numpy as np\n",
    "import pandas as pd\n",
    "\n",
    "import glob\n",
    "csv_files = glob.glob('Results/*.csv')"
   ]
  },
  {
   "cell_type": "code",
   "execution_count": 2,
   "metadata": {},
   "outputs": [],
   "source": [
    "def convertInt(df):\n",
    "    df[df >= 0.5] = 1\n",
    "    df[df <  0.5] = 0\n",
    "    df = df.apply(pd.to_numeric, downcast='integer')\n",
    "    return df"
   ]
  },
  {
   "cell_type": "code",
   "execution_count": 3,
   "metadata": {},
   "outputs": [],
   "source": [
    "agents = []\n",
    "custs  = []\n",
    "for csv_file in csv_files:\n",
    "    df = pd.read_csv(csv_file)\n",
    "    df = convertInt(df)\n",
    "    if(\"agent\" in csv_file):\n",
    "        agents.append(df)\n",
    "    elif(\"cust\" in csv_file):\n",
    "        custs.append(df)\n",
    "        \n",
    "cust_prediction = np.zeros(df.shape)\n",
    "for cust in custs:\n",
    "    cust_prediction += cust.values\n",
    "    \n",
    "\n",
    "agent_prediction = np.zeros(df.shape)\n",
    "for agent in agents:\n",
    "    agent_prediction += agent.values\n",
    "\n",
    "\n",
    "mean = agent_prediction / 5\n",
    "agent_prediction[mean >= 0.5] = 1\n",
    "agent_prediction[mean <  0.5] = 0\n",
    "\n",
    "mean = cust_prediction / 5\n",
    "cust_prediction[mean >= 0.5] = 1\n",
    "cust_prediction[mean <  0.5] = 0\n",
    "\n",
    "cust_prediction  = pd.DataFrame(cust_prediction.astype(int))\n",
    "agent_prediction = pd.DataFrame(agent_prediction.astype(int))"
   ]
  },
  {
   "cell_type": "code",
   "execution_count": 4,
   "metadata": {},
   "outputs": [],
   "source": [
    "test_agent       = pd.read_csv(\"Data/Koc_Yaz_Okulu_Data_Test_Agent.txt\", sep =\";\")\n",
    "submission_agent = pd.concat([test_agent, agent_prediction], axis=1)   \n",
    "submission_agent.to_csv(\"Results/cust_submission.csv\", index=False)\n",
    "\n",
    "test_cust       = pd.read_csv(\"Data/Koc_Yaz_Okulu_Data_Test_Cust.txt\", sep =\";\")\n",
    "submission_cust = pd.concat([test_cust, cust_prediction], axis=1)   \n",
    "submission_cust.to_csv(\"Results/agent_submission.csv\", index=False)"
   ]
  },
  {
   "cell_type": "code",
   "execution_count": null,
   "metadata": {},
   "outputs": [],
   "source": []
  }
 ],
 "metadata": {
  "kernelspec": {
   "display_name": "Python 3",
   "language": "python",
   "name": "python3"
  },
  "language_info": {
   "codemirror_mode": {
    "name": "ipython",
    "version": 3
   },
   "file_extension": ".py",
   "mimetype": "text/x-python",
   "name": "python",
   "nbconvert_exporter": "python",
   "pygments_lexer": "ipython3",
   "version": "3.6.8"
  }
 },
 "nbformat": 4,
 "nbformat_minor": 2
}
