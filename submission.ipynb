{
 "cells": [
  {
   "cell_type": "code",
   "execution_count": 1,
   "metadata": {},
   "outputs": [],
   "source": [
    "import numpy as np\n",
    "import pandas as pd\n",
    "\n",
    "import glob\n",
    "csv_files = glob.glob('Results/*.csv')"
   ]
  },
  {
   "cell_type": "code",
   "execution_count": 2,
   "metadata": {},
   "outputs": [],
   "source": [
    "def convertInt(df):\n",
    "    df[df >= 0.5] = 1\n",
    "    df[df <  0.5] = 0\n",
    "    df = df.apply(pd.to_numeric, downcast='integer')\n",
    "    return df"
   ]
  },
  {
   "cell_type": "code",
   "execution_count": 3,
   "metadata": {},
   "outputs": [],
   "source": [
    "preds = []\n",
    "for csv_file in csv_files:\n",
    "    df = pd.read_csv(csv_file)\n",
    "    df = convertInt(df)\n",
    "    preds.append(df)\n",
    "        \n",
    "predictions = np.zeros(df.shape)\n",
    "for pred in preds:\n",
    "    predictions += pred.values\n",
    "    \n",
    "\n",
    "\n",
    "\n",
    "mean = predictions / 5\n",
    "predictions[mean >= 0.5] = 1\n",
    "predictions[mean <  0.5] = 0\n",
    "\n",
    "predictions  = pd.DataFrame(predictions.astype(int))"
   ]
  },
  {
   "cell_type": "code",
   "execution_count": 4,
   "metadata": {},
   "outputs": [],
   "source": [
    "predictions.columns = predictions.columns + 1\n",
    "predictions         = predictions.add_prefix(\"LABEL_\")"
   ]
  },
  {
   "cell_type": "code",
   "execution_count": 5,
   "metadata": {},
   "outputs": [],
   "source": [
    "test_agent = pd.read_csv(\"Data/Koc_Yaz_Okulu_Data_Test_Agent.txt\", sep =\";\")\n",
    "submission = pd.concat([test_agent, predictions], axis=1)   \n",
    "submission = submission.drop([\"AGENT_TXT\"], axis=1)\n",
    "submission.to_csv(\"Results/submission.txt\", index=False, sep=\";\")"
   ]
  },
  {
   "cell_type": "code",
   "execution_count": null,
   "metadata": {},
   "outputs": [],
   "source": []
  }
 ],
 "metadata": {
  "kernelspec": {
   "display_name": "Python 3",
   "language": "python",
   "name": "python3"
  },
  "language_info": {
   "codemirror_mode": {
    "name": "ipython",
    "version": 3
   },
   "file_extension": ".py",
   "mimetype": "text/x-python",
   "name": "python",
   "nbconvert_exporter": "python",
   "pygments_lexer": "ipython3",
   "version": "3.6.8"
  }
 },
 "nbformat": 4,
 "nbformat_minor": 2
}
