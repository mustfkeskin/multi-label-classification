{
 "cells": [
  {
   "cell_type": "markdown",
   "metadata": {},
   "source": [
    "# Load Libraries"
   ]
  },
  {
   "cell_type": "code",
   "execution_count": 1,
   "metadata": {},
   "outputs": [
    {
     "name": "stderr",
     "output_type": "stream",
     "text": [
      "Using TensorFlow backend.\n"
     ]
    },
    {
     "name": "stdout",
     "output_type": "stream",
     "text": [
      "Couldn't import dot_parser, loading of dot files will not be possible.\n"
     ]
    },
    {
     "data": {
      "text/html": [
       "<script type=\"text/javascript\">window.PlotlyConfig = {MathJaxConfig: 'local'};</script><script type=\"text/javascript\">if (window.MathJax) {MathJax.Hub.Config({SVG: {font: \"STIX-Web\"}});}</script><script>requirejs.config({paths: { 'plotly': ['https://cdn.plot.ly/plotly-latest.min']},});if(!window._Plotly) {require(['plotly'],function(plotly) {window._Plotly=plotly;});}</script>"
      ],
      "text/vnd.plotly.v1+html": [
       "<script type=\"text/javascript\">window.PlotlyConfig = {MathJaxConfig: 'local'};</script><script type=\"text/javascript\">if (window.MathJax) {MathJax.Hub.Config({SVG: {font: \"STIX-Web\"}});}</script><script>requirejs.config({paths: { 'plotly': ['https://cdn.plot.ly/plotly-latest.min']},});if(!window._Plotly) {require(['plotly'],function(plotly) {window._Plotly=plotly;});}</script>"
      ]
     },
     "metadata": {},
     "output_type": "display_data"
    }
   ],
   "source": [
    "# Data Mungling Block\n",
    "import numpy as np\n",
    "import pandas as pd\n",
    "import os.path\n",
    "\n",
    "\n",
    "# Keras Block\n",
    "from keras.preprocessing.text import Tokenizer\n",
    "from keras.preprocessing.sequence import pad_sequences\n",
    "from keras.utils import to_categorical\n",
    "from keras.models import Sequential, load_model\n",
    "from keras.layers import Dense, LSTM, Bidirectional, Embedding, Dropout\n",
    "from keras.callbacks import ModelCheckpoint\n",
    "\n",
    "\n",
    "# Scikit Learn Block\n",
    "from sklearn.model_selection import train_test_split\n",
    "from sklearn.preprocessing import OneHotEncoder\n",
    "from sklearn.linear_model import LogisticRegression\n",
    "from sklearn.svm import LinearSVC\n",
    "from sklearn import svm\n",
    "from sklearn.pipeline import Pipeline\n",
    "from sklearn.metrics import accuracy_score\n",
    "from sklearn.multiclass import OneVsRestClassifier\n",
    "from sklearn.feature_extraction.text import CountVectorizer\n",
    "from sklearn.feature_extraction.text import TfidfVectorizer\n",
    "from sklearn.base import BaseEstimator, ClassifierMixin\n",
    "from sklearn.utils.validation import check_X_y, check_is_fitted\n",
    "from scipy import sparse\n",
    "\n",
    "\n",
    "# Data Visulation Block\n",
    "import seaborn as sns\n",
    "import matplotlib.pyplot as plt\n",
    "from plotly.offline import download_plotlyjs, init_notebook_mode, plot, iplot\n",
    "\n",
    "init_notebook_mode(connected=True)\n",
    "%matplotlib inline "
   ]
  },
  {
   "cell_type": "markdown",
   "metadata": {},
   "source": [
    "# Read Dataset"
   ]
  },
  {
   "cell_type": "code",
   "execution_count": 2,
   "metadata": {},
   "outputs": [],
   "source": [
    "X_train_cust  = pd.read_csv(\"Data/Koc_Yaz_Okulu_Data_Train_Cust.txt\", sep =\";\")\n",
    "X_train_agent = pd.read_csv(\"Data/Koc_Yaz_Okulu_Data_Train_Agent.txt\", sep =\";\")\n",
    "\n",
    "X_train_cust[\"LIST_TXT\"]  = X_train_cust[\"CUST_TXT\"].apply(lambda x: x.split(\" \"))\n",
    "X_train_agent[\"LIST_TXT\"] = X_train_agent[\"AGENT_TXT\"].apply(lambda x: x.split(\" \"))\n",
    "\n",
    "#label\n",
    "y_train = pd.read_csv(\"Data/Koc_Yaz_Okulu_Data_Train_Target.txt\", sep =\";\")\n",
    "\n",
    "X_train = pd.merge(X_train_agent, X_train_cust, how=\"inner\", on=[\"ID\"], suffixes=[\"_agent\", \"_cust\"])\n",
    "df      = pd.merge(X_train, y_train, how = \"inner\", on=[\"ID\"])\n",
    "\n",
    "# Columns start with \"LABEL_\"\n",
    "label_cols = []\n",
    "for col in df.columns:\n",
    "    if(\"LABEL\" in col):\n",
    "        label_cols.append(col)"
   ]
  },
  {
   "cell_type": "markdown",
   "metadata": {},
   "source": [
    "# Test Data For Submission"
   ]
  },
  {
   "cell_type": "code",
   "execution_count": 3,
   "metadata": {},
   "outputs": [
    {
     "name": "stdout",
     "output_type": "stream",
     "text": [
      "(12721, 3) (12721, 3) (12721, 5)\n"
     ]
    }
   ],
   "source": [
    "test_agent = pd.read_csv(\"Data/Koc_Yaz_Okulu_Data_Test_Agent.txt\", sep =\";\")\n",
    "test_cust  = pd.read_csv(\"Data/Koc_Yaz_Okulu_Data_Test_Cust.txt\",  sep =\";\")\n",
    "\n",
    "test_cust[\"LIST_TXT\"]  = test_cust[\"CUST_TXT\"].apply(lambda x: x.split(\" \"))\n",
    "test_agent[\"LIST_TXT\"] = test_agent[\"AGENT_TXT\"].apply(lambda x: x.split(\" \"))\n",
    "\n",
    "test = pd.merge(test_agent, test_cust, how=\"inner\", on=[\"ID\"], suffixes=[\"_agent\", \"_cust\"])\n",
    "print(test_agent.shape, test_cust.shape, test.shape)"
   ]
  },
  {
   "cell_type": "markdown",
   "metadata": {},
   "source": [
    "# Split Data and create TF-IDF"
   ]
  },
  {
   "cell_type": "code",
   "execution_count": 4,
   "metadata": {},
   "outputs": [],
   "source": [
    "# Split Train Test\n",
    "train, valid = train_test_split(df, random_state=21, test_size=0.30, shuffle=True)\n",
    "\n",
    "\n",
    "# TFIDF\n",
    "'''\n",
    "\n",
    "vectorizer = TfidfVectorizer(strip_accents='unicode',\n",
    "                             analyzer='word',\n",
    "                             ngram_range=(1,3),\n",
    "                             norm='l2',\n",
    "                             lowercase=False,\n",
    "                             max_df = 0.5)\n",
    "\n",
    "'''\n",
    "\n",
    "vectorizer = TfidfVectorizer(ngram_range=(1,2), lowercase=False,\n",
    "               min_df=3, max_df=0.5, strip_accents='unicode', use_idf=1,\n",
    "               smooth_idf=1, sublinear_tf=1 )\n",
    "\n",
    "\n",
    "train_text = train[\"AGENT_TXT\"] + \" \" + train[\"CUST_TXT\"]\n",
    "valid_text = valid[\"AGENT_TXT\"] + \" \" + valid[\"CUST_TXT\"]\n",
    "test_text  = test[\"CUST_TXT\"]   + \" \" + test[\"AGENT_TXT\"]\n",
    "drop_cols  = [\"ID\", \"AGENT_TXT\", \"LIST_TXT_agent\", \"CUST_TXT\", \"LIST_TXT_cust\"]\n",
    "\n",
    "vectorizer.fit(train_text)\n",
    "\n",
    "train_term_doc = vectorizer.transform(train_text)\n",
    "valid_term_doc = vectorizer.transform(valid_text)\n",
    "test_term_doc  = vectorizer.transform(test_text)\n",
    "\n",
    "y_train = train.drop(labels = drop_cols, axis=1)\n",
    "y_valid = valid.drop(labels = drop_cols, axis=1)"
   ]
  },
  {
   "cell_type": "markdown",
   "metadata": {},
   "source": [
    "# Train SVM with TF-IDF Features"
   ]
  },
  {
   "cell_type": "code",
   "execution_count": 5,
   "metadata": {
    "scrolled": true
   },
   "outputs": [
    {
     "name": "stdout",
     "output_type": "stream",
     "text": [
      "**Processing LABEL_1 ...**\n",
      "LABEL_1\n",
      "Train accuracy is 0.9969285714285714\n",
      "LABEL_1\n",
      "Valid accuracy is 0.9294166666666667\n",
      "\n",
      "\n",
      "**Processing LABEL_2 ...**\n",
      "LABEL_2\n",
      "Train accuracy is 0.9907142857142858\n",
      "LABEL_2\n",
      "Valid accuracy is 0.8525\n",
      "\n",
      "\n",
      "**Processing LABEL_3 ...**\n",
      "LABEL_3\n",
      "Train accuracy is 0.9952142857142857\n",
      "LABEL_3\n",
      "Valid accuracy is 0.9229166666666667\n",
      "\n",
      "\n",
      "**Processing LABEL_4 ...**\n",
      "LABEL_4\n",
      "Train accuracy is 0.9965\n",
      "LABEL_4\n",
      "Valid accuracy is 0.9444166666666667\n",
      "\n",
      "\n",
      "**Processing LABEL_5 ...**\n",
      "LABEL_5\n",
      "Train accuracy is 0.9977142857142857\n",
      "LABEL_5\n",
      "Valid accuracy is 0.9605\n",
      "\n",
      "\n",
      "**Processing LABEL_6 ...**\n",
      "LABEL_6\n",
      "Train accuracy is 0.99975\n",
      "LABEL_6\n",
      "Valid accuracy is 0.97025\n",
      "\n",
      "\n",
      "**Processing LABEL_7 ...**\n",
      "LABEL_7\n",
      "Train accuracy is 0.99575\n",
      "LABEL_7\n",
      "Valid accuracy is 0.9425\n",
      "\n",
      "\n",
      "**Processing LABEL_8 ...**\n",
      "LABEL_8\n",
      "Train accuracy is 0.9971428571428571\n",
      "LABEL_8\n",
      "Valid accuracy is 0.9511666666666667\n",
      "\n",
      "\n",
      "**Processing LABEL_9 ...**\n",
      "LABEL_9\n",
      "Train accuracy is 0.9972142857142857\n",
      "LABEL_9\n",
      "Valid accuracy is 0.9451666666666667\n",
      "\n",
      "\n",
      "**Processing LABEL_10 ...**\n",
      "LABEL_10\n",
      "Train accuracy is 0.9913571428571428\n",
      "LABEL_10\n",
      "Valid accuracy is 0.8920833333333333\n",
      "\n",
      "\n",
      "**Processing LABEL_11 ...**\n",
      "LABEL_11\n",
      "Train accuracy is 0.99975\n",
      "LABEL_11\n",
      "Valid accuracy is 0.9795833333333334\n",
      "\n",
      "\n",
      "**Processing LABEL_12 ...**\n",
      "LABEL_12\n",
      "Train accuracy is 0.998\n",
      "LABEL_12\n",
      "Valid accuracy is 0.9644166666666667\n",
      "\n",
      "\n",
      "**Processing LABEL_13 ...**\n",
      "LABEL_13\n",
      "Train accuracy is 0.9958928571428571\n",
      "LABEL_13\n",
      "Valid accuracy is 0.9379166666666666\n",
      "\n",
      "\n",
      "**Processing LABEL_14 ...**\n",
      "LABEL_14\n",
      "Train accuracy is 0.99475\n",
      "LABEL_14\n",
      "Valid accuracy is 0.9445\n",
      "\n",
      "\n",
      "**Processing LABEL_15 ...**\n",
      "LABEL_15\n",
      "Train accuracy is 0.9994642857142857\n",
      "LABEL_15\n",
      "Valid accuracy is 0.9848333333333333\n",
      "\n",
      "\n",
      "**Processing LABEL_16 ...**\n",
      "LABEL_16\n",
      "Train accuracy is 1.0\n",
      "LABEL_16\n",
      "Valid accuracy is 0.9848333333333333\n",
      "\n",
      "\n",
      "**Processing LABEL_17 ...**\n",
      "LABEL_17\n",
      "Train accuracy is 0.9928928571428571\n",
      "LABEL_17\n",
      "Valid accuracy is 0.91625\n",
      "\n",
      "\n",
      "**Processing LABEL_18 ...**\n",
      "LABEL_18\n",
      "Train accuracy is 0.9960357142857142\n",
      "LABEL_18\n",
      "Valid accuracy is 0.9335\n",
      "\n",
      "\n",
      "**Processing LABEL_19 ...**\n",
      "LABEL_19\n",
      "Train accuracy is 0.9998214285714285\n",
      "LABEL_19\n",
      "Valid accuracy is 0.97325\n",
      "\n",
      "\n",
      "**Processing LABEL_20 ...**\n",
      "LABEL_20\n",
      "Train accuracy is 0.9991071428571429\n",
      "LABEL_20\n",
      "Valid accuracy is 0.9614166666666667\n",
      "\n",
      "\n",
      "**Processing LABEL_21 ...**\n",
      "LABEL_21\n",
      "Train accuracy is 0.9998214285714285\n",
      "LABEL_21\n",
      "Valid accuracy is 0.9820833333333333\n",
      "\n",
      "\n",
      "**Processing LABEL_22 ...**\n",
      "LABEL_22\n",
      "Train accuracy is 0.9985\n",
      "LABEL_22\n",
      "Valid accuracy is 0.956\n",
      "\n",
      "\n",
      "**Processing LABEL_23 ...**\n",
      "LABEL_23\n",
      "Train accuracy is 0.9995\n",
      "LABEL_23\n",
      "Valid accuracy is 0.9799166666666667\n",
      "\n",
      "\n",
      "**Processing LABEL_24 ...**\n",
      "LABEL_24\n",
      "Train accuracy is 0.9999642857142857\n",
      "LABEL_24\n",
      "Valid accuracy is 0.9913333333333333\n",
      "\n",
      "\n",
      "**Processing LABEL_25 ...**\n",
      "LABEL_25\n",
      "Train accuracy is 0.9983571428571428\n",
      "LABEL_25\n",
      "Valid accuracy is 0.9735\n",
      "\n",
      "\n",
      "**Processing LABEL_26 ...**\n",
      "LABEL_26\n",
      "Train accuracy is 0.9991785714285715\n",
      "LABEL_26\n",
      "Valid accuracy is 0.9738333333333333\n",
      "\n",
      "\n",
      "**Processing LABEL_27 ...**\n",
      "LABEL_27\n",
      "Train accuracy is 0.9999642857142857\n",
      "LABEL_27\n",
      "Valid accuracy is 0.9885833333333334\n",
      "\n",
      "\n",
      "**Processing LABEL_28 ...**\n",
      "LABEL_28\n",
      "Train accuracy is 0.9998571428571429\n",
      "LABEL_28\n",
      "Valid accuracy is 0.9840833333333333\n",
      "\n",
      "\n",
      "**Processing LABEL_29 ...**\n",
      "LABEL_29\n",
      "Train accuracy is 1.0\n",
      "LABEL_29\n",
      "Valid accuracy is 0.9948333333333333\n",
      "\n",
      "\n",
      "**Processing LABEL_30 ...**\n",
      "LABEL_30\n",
      "Train accuracy is 0.9994285714285714\n",
      "LABEL_30\n",
      "Valid accuracy is 0.9735833333333334\n",
      "\n",
      "\n",
      "**Processing LABEL_31 ...**\n",
      "LABEL_31\n",
      "Train accuracy is 0.9998571428571429\n",
      "LABEL_31\n",
      "Valid accuracy is 0.987\n",
      "\n",
      "\n",
      "**Processing LABEL_32 ...**\n",
      "LABEL_32\n",
      "Train accuracy is 0.9990357142857142\n",
      "LABEL_32\n",
      "Valid accuracy is 0.9735833333333334\n",
      "\n",
      "\n",
      "**Processing LABEL_33 ...**\n",
      "LABEL_33\n",
      "Train accuracy is 1.0\n",
      "LABEL_33\n",
      "Valid accuracy is 0.9925833333333334\n",
      "\n",
      "\n",
      "**Processing LABEL_34 ...**\n",
      "LABEL_34\n",
      "Train accuracy is 0.9999642857142857\n",
      "LABEL_34\n",
      "Valid accuracy is 0.9879166666666667\n",
      "\n",
      "\n",
      "**Processing LABEL_35 ...**\n",
      "LABEL_35\n",
      "Train accuracy is 0.9998214285714285\n",
      "LABEL_35\n",
      "Valid accuracy is 0.9819166666666667\n",
      "\n",
      "\n",
      "**Processing LABEL_36 ...**\n",
      "LABEL_36\n",
      "Train accuracy is 0.9995714285714286\n",
      "LABEL_36\n",
      "Valid accuracy is 0.97875\n",
      "\n",
      "\n",
      "**Processing LABEL_37 ...**\n",
      "LABEL_37\n",
      "Train accuracy is 0.9999285714285714\n",
      "LABEL_37\n",
      "Valid accuracy is 0.9949166666666667\n",
      "\n",
      "\n",
      "**Processing LABEL_38 ...**\n",
      "LABEL_38\n",
      "Train accuracy is 0.9983214285714286\n",
      "LABEL_38\n",
      "Valid accuracy is 0.9698333333333333\n",
      "\n",
      "\n",
      "**Processing LABEL_39 ...**\n",
      "LABEL_39\n",
      "Train accuracy is 0.9998571428571429\n",
      "LABEL_39\n",
      "Valid accuracy is 0.9870833333333333\n",
      "\n",
      "\n",
      "**Processing LABEL_40 ...**\n",
      "LABEL_40\n",
      "Train accuracy is 0.9999285714285714\n",
      "LABEL_40\n",
      "Valid accuracy is 0.9918333333333333\n",
      "\n",
      "\n",
      "**Processing LABEL_41 ...**\n",
      "LABEL_41\n",
      "Train accuracy is 0.9999642857142857\n",
      "LABEL_41\n",
      "Valid accuracy is 0.9926666666666667\n",
      "\n",
      "\n",
      "**Processing LABEL_42 ...**\n",
      "LABEL_42\n",
      "Train accuracy is 0.9999642857142857\n",
      "LABEL_42\n",
      "Valid accuracy is 0.995\n",
      "\n",
      "\n",
      "**Processing LABEL_43 ...**\n",
      "LABEL_43\n",
      "Train accuracy is 0.9999642857142857\n",
      "LABEL_43\n",
      "Valid accuracy is 0.9976666666666667\n",
      "\n",
      "\n",
      "**Processing LABEL_44 ...**\n",
      "LABEL_44\n",
      "Train accuracy is 1.0\n",
      "LABEL_44\n",
      "Valid accuracy is 0.996\n",
      "\n",
      "\n",
      "**Processing LABEL_45 ...**\n",
      "LABEL_45\n",
      "Train accuracy is 0.9999285714285714\n",
      "LABEL_45\n",
      "Valid accuracy is 0.9883333333333333\n",
      "\n",
      "\n",
      "**Processing LABEL_46 ...**\n",
      "LABEL_46\n",
      "Train accuracy is 1.0\n",
      "LABEL_46\n",
      "Valid accuracy is 0.9963333333333333\n",
      "\n",
      "\n",
      "**Processing LABEL_47 ...**\n",
      "LABEL_47\n",
      "Train accuracy is 1.0\n",
      "LABEL_47\n",
      "Valid accuracy is 0.9969166666666667\n",
      "\n",
      "\n",
      "**Processing LABEL_48 ...**\n",
      "LABEL_48\n",
      "Train accuracy is 1.0\n",
      "LABEL_48\n",
      "Valid accuracy is 0.9983333333333333\n",
      "\n",
      "\n",
      "**Processing LABEL_49 ...**\n",
      "LABEL_49\n",
      "Train accuracy is 1.0\n",
      "LABEL_49\n",
      "Valid accuracy is 0.997\n",
      "\n",
      "\n",
      "**Processing LABEL_50 ...**\n",
      "LABEL_50\n",
      "Train accuracy is 1.0\n",
      "LABEL_50\n",
      "Valid accuracy is 0.9925833333333334\n",
      "\n",
      "\n",
      "**Processing LABEL_51 ...**\n",
      "LABEL_51\n",
      "Train accuracy is 1.0\n",
      "LABEL_51\n",
      "Valid accuracy is 0.9988333333333334\n",
      "\n",
      "\n",
      "**Processing LABEL_52 ...**\n",
      "LABEL_52\n",
      "Train accuracy is 1.0\n",
      "LABEL_52\n",
      "Valid accuracy is 0.999\n",
      "\n",
      "\n",
      "**Processing LABEL_53 ...**\n",
      "LABEL_53\n",
      "Train accuracy is 1.0\n",
      "LABEL_53\n",
      "Valid accuracy is 0.99825\n",
      "\n",
      "\n",
      "**Processing LABEL_54 ...**\n",
      "LABEL_54\n",
      "Train accuracy is 1.0\n",
      "LABEL_54\n",
      "Valid accuracy is 0.9971666666666666\n",
      "\n",
      "\n",
      "**Processing LABEL_55 ...**\n",
      "LABEL_55\n",
      "Train accuracy is 1.0\n",
      "LABEL_55\n",
      "Valid accuracy is 0.9975833333333334\n",
      "\n",
      "\n",
      "**Processing LABEL_56 ...**\n",
      "LABEL_56\n",
      "Train accuracy is 1.0\n",
      "LABEL_56\n",
      "Valid accuracy is 0.9991666666666666\n",
      "\n",
      "\n"
     ]
    }
   ],
   "source": [
    "# Using pipeline for applying SVM and one vs rest classifier\n",
    "LogSVM_pipeline = Pipeline([\n",
    "                ('clf', OneVsRestClassifier(LinearSVC(max_iter=3000), n_jobs=-1)),\n",
    "            ])\n",
    "\n",
    "\n",
    "data_trains = [train_term_doc]\n",
    "data_valids = [valid_term_doc]\n",
    "models      = [LogSVM_pipeline]\n",
    "\n",
    "submission_test  = pd.DataFrame()\n",
    "\n",
    "for category in label_cols:\n",
    "    print('**Processing {} ...**'.format(category))\n",
    "    for data_train, data_valid in zip(data_trains, data_valids):\n",
    "        for model in models:\n",
    "            model.fit(data_train, train[category])\n",
    "            \n",
    "            # Train Predict\n",
    "            prediction = model.predict(data_train)\n",
    "            accuracy   = accuracy_score(train[category], prediction)\n",
    "            \n",
    "            print(category)\n",
    "            print('Train accuracy is {}'.format(accuracy))\n",
    "            \n",
    "            # Valid Predict\n",
    "            prediction = model.predict(data_valid)\n",
    "            accuracy   = accuracy_score(valid[category], prediction)\n",
    "            \n",
    "            print(category)\n",
    "            print('Valid accuracy is {}'.format(accuracy))\n",
    "            \n",
    "            # Test Predict\n",
    "            prediction                = model.predict(test_term_doc)\n",
    "            submission_test[category] = prediction    \n",
    "  \n",
    "    print(\"\\n\")\n",
    "    \n",
    "submission_test.to_csv(\"Results/tfidf_svm.csv\", index=False)"
   ]
  },
  {
   "cell_type": "code",
   "execution_count": 7,
   "metadata": {
    "scrolled": true
   },
   "outputs": [
    {
     "name": "stdout",
     "output_type": "stream",
     "text": [
      "fit LABEL_1\n"
     ]
    },
    {
     "name": "stderr",
     "output_type": "stream",
     "text": [
      "/home/mustafa/anaconda3/lib/python3.6/site-packages/sklearn/linear_model/logistic.py:1300: UserWarning:\n",
      "\n",
      "'n_jobs' > 1 does not have any effect when 'solver' is set to 'liblinear'. Got 'n_jobs' = 12.\n",
      "\n"
     ]
    },
    {
     "name": "stdout",
     "output_type": "stream",
     "text": [
      "Train accuracy is 0.9437857142857143\n",
      "Valid accuracy is 0.9280833333333334\n",
      "fit LABEL_2\n"
     ]
    },
    {
     "name": "stderr",
     "output_type": "stream",
     "text": [
      "/home/mustafa/anaconda3/lib/python3.6/site-packages/sklearn/linear_model/logistic.py:1300: UserWarning:\n",
      "\n",
      "'n_jobs' > 1 does not have any effect when 'solver' is set to 'liblinear'. Got 'n_jobs' = 12.\n",
      "\n"
     ]
    },
    {
     "name": "stdout",
     "output_type": "stream",
     "text": [
      "Train accuracy is 0.8764285714285714\n",
      "Valid accuracy is 0.8640833333333333\n",
      "fit LABEL_3\n"
     ]
    },
    {
     "name": "stderr",
     "output_type": "stream",
     "text": [
      "/home/mustafa/anaconda3/lib/python3.6/site-packages/sklearn/linear_model/logistic.py:1300: UserWarning:\n",
      "\n",
      "'n_jobs' > 1 does not have any effect when 'solver' is set to 'liblinear'. Got 'n_jobs' = 12.\n",
      "\n"
     ]
    },
    {
     "name": "stdout",
     "output_type": "stream",
     "text": [
      "Train accuracy is 0.9334285714285714\n",
      "Valid accuracy is 0.9208333333333333\n",
      "fit LABEL_4\n"
     ]
    },
    {
     "name": "stderr",
     "output_type": "stream",
     "text": [
      "/home/mustafa/anaconda3/lib/python3.6/site-packages/sklearn/linear_model/logistic.py:1300: UserWarning:\n",
      "\n",
      "'n_jobs' > 1 does not have any effect when 'solver' is set to 'liblinear'. Got 'n_jobs' = 12.\n",
      "\n"
     ]
    },
    {
     "name": "stdout",
     "output_type": "stream",
     "text": [
      "Train accuracy is 0.9499285714285715\n",
      "Valid accuracy is 0.9431666666666667\n",
      "fit LABEL_5\n"
     ]
    },
    {
     "name": "stderr",
     "output_type": "stream",
     "text": [
      "/home/mustafa/anaconda3/lib/python3.6/site-packages/sklearn/linear_model/logistic.py:1300: UserWarning:\n",
      "\n",
      "'n_jobs' > 1 does not have any effect when 'solver' is set to 'liblinear'. Got 'n_jobs' = 12.\n",
      "\n"
     ]
    },
    {
     "name": "stdout",
     "output_type": "stream",
     "text": [
      "Train accuracy is 0.9690714285714286\n",
      "Valid accuracy is 0.95875\n",
      "fit LABEL_6\n"
     ]
    },
    {
     "name": "stderr",
     "output_type": "stream",
     "text": [
      "/home/mustafa/anaconda3/lib/python3.6/site-packages/sklearn/linear_model/logistic.py:1300: UserWarning:\n",
      "\n",
      "'n_jobs' > 1 does not have any effect when 'solver' is set to 'liblinear'. Got 'n_jobs' = 12.\n",
      "\n"
     ]
    },
    {
     "name": "stdout",
     "output_type": "stream",
     "text": [
      "Train accuracy is 0.9788928571428571\n",
      "Valid accuracy is 0.9685\n",
      "fit LABEL_7\n"
     ]
    },
    {
     "name": "stderr",
     "output_type": "stream",
     "text": [
      "/home/mustafa/anaconda3/lib/python3.6/site-packages/sklearn/linear_model/logistic.py:1300: UserWarning:\n",
      "\n",
      "'n_jobs' > 1 does not have any effect when 'solver' is set to 'liblinear'. Got 'n_jobs' = 12.\n",
      "\n"
     ]
    },
    {
     "name": "stdout",
     "output_type": "stream",
     "text": [
      "Train accuracy is 0.95125\n",
      "Valid accuracy is 0.94325\n",
      "fit LABEL_8\n"
     ]
    },
    {
     "name": "stderr",
     "output_type": "stream",
     "text": [
      "/home/mustafa/anaconda3/lib/python3.6/site-packages/sklearn/linear_model/logistic.py:1300: UserWarning:\n",
      "\n",
      "'n_jobs' > 1 does not have any effect when 'solver' is set to 'liblinear'. Got 'n_jobs' = 12.\n",
      "\n"
     ]
    },
    {
     "name": "stdout",
     "output_type": "stream",
     "text": [
      "Train accuracy is 0.9635357142857143\n",
      "Valid accuracy is 0.9485833333333333\n",
      "fit LABEL_9\n"
     ]
    },
    {
     "name": "stderr",
     "output_type": "stream",
     "text": [
      "/home/mustafa/anaconda3/lib/python3.6/site-packages/sklearn/linear_model/logistic.py:1300: UserWarning:\n",
      "\n",
      "'n_jobs' > 1 does not have any effect when 'solver' is set to 'liblinear'. Got 'n_jobs' = 12.\n",
      "\n"
     ]
    },
    {
     "name": "stdout",
     "output_type": "stream",
     "text": [
      "Train accuracy is 0.9591785714285714\n",
      "Valid accuracy is 0.9445833333333333\n",
      "fit LABEL_10\n"
     ]
    },
    {
     "name": "stderr",
     "output_type": "stream",
     "text": [
      "/home/mustafa/anaconda3/lib/python3.6/site-packages/sklearn/linear_model/logistic.py:1300: UserWarning:\n",
      "\n",
      "'n_jobs' > 1 does not have any effect when 'solver' is set to 'liblinear'. Got 'n_jobs' = 12.\n",
      "\n"
     ]
    },
    {
     "name": "stdout",
     "output_type": "stream",
     "text": [
      "Train accuracy is 0.9032857142857142\n",
      "Valid accuracy is 0.8879166666666667\n",
      "fit LABEL_11\n"
     ]
    },
    {
     "name": "stderr",
     "output_type": "stream",
     "text": [
      "/home/mustafa/anaconda3/lib/python3.6/site-packages/sklearn/linear_model/logistic.py:1300: UserWarning:\n",
      "\n",
      "'n_jobs' > 1 does not have any effect when 'solver' is set to 'liblinear'. Got 'n_jobs' = 12.\n",
      "\n"
     ]
    },
    {
     "name": "stdout",
     "output_type": "stream",
     "text": [
      "Train accuracy is 0.9878214285714285\n",
      "Valid accuracy is 0.9765833333333334\n",
      "fit LABEL_12\n"
     ]
    },
    {
     "name": "stderr",
     "output_type": "stream",
     "text": [
      "/home/mustafa/anaconda3/lib/python3.6/site-packages/sklearn/linear_model/logistic.py:1300: UserWarning:\n",
      "\n",
      "'n_jobs' > 1 does not have any effect when 'solver' is set to 'liblinear'. Got 'n_jobs' = 12.\n",
      "\n"
     ]
    },
    {
     "name": "stdout",
     "output_type": "stream",
     "text": [
      "Train accuracy is 0.9685357142857143\n",
      "Valid accuracy is 0.9638333333333333\n",
      "fit LABEL_13\n"
     ]
    },
    {
     "name": "stderr",
     "output_type": "stream",
     "text": [
      "/home/mustafa/anaconda3/lib/python3.6/site-packages/sklearn/linear_model/logistic.py:1300: UserWarning:\n",
      "\n",
      "'n_jobs' > 1 does not have any effect when 'solver' is set to 'liblinear'. Got 'n_jobs' = 12.\n",
      "\n"
     ]
    },
    {
     "name": "stdout",
     "output_type": "stream",
     "text": [
      "Train accuracy is 0.9481785714285714\n",
      "Valid accuracy is 0.9349166666666666\n",
      "fit LABEL_14\n"
     ]
    },
    {
     "name": "stderr",
     "output_type": "stream",
     "text": [
      "/home/mustafa/anaconda3/lib/python3.6/site-packages/sklearn/linear_model/logistic.py:1300: UserWarning:\n",
      "\n",
      "'n_jobs' > 1 does not have any effect when 'solver' is set to 'liblinear'. Got 'n_jobs' = 12.\n",
      "\n"
     ]
    },
    {
     "name": "stdout",
     "output_type": "stream",
     "text": [
      "Train accuracy is 0.9508928571428571\n",
      "Valid accuracy is 0.9424166666666667\n",
      "fit LABEL_15\n"
     ]
    },
    {
     "name": "stderr",
     "output_type": "stream",
     "text": [
      "/home/mustafa/anaconda3/lib/python3.6/site-packages/sklearn/linear_model/logistic.py:1300: UserWarning:\n",
      "\n",
      "'n_jobs' > 1 does not have any effect when 'solver' is set to 'liblinear'. Got 'n_jobs' = 12.\n",
      "\n"
     ]
    },
    {
     "name": "stdout",
     "output_type": "stream",
     "text": [
      "Train accuracy is 0.9875\n",
      "Valid accuracy is 0.9851666666666666\n",
      "fit LABEL_16\n"
     ]
    },
    {
     "name": "stderr",
     "output_type": "stream",
     "text": [
      "/home/mustafa/anaconda3/lib/python3.6/site-packages/sklearn/linear_model/logistic.py:1300: UserWarning:\n",
      "\n",
      "'n_jobs' > 1 does not have any effect when 'solver' is set to 'liblinear'. Got 'n_jobs' = 12.\n",
      "\n"
     ]
    },
    {
     "name": "stdout",
     "output_type": "stream",
     "text": [
      "Train accuracy is 0.9917857142857143\n",
      "Valid accuracy is 0.9841666666666666\n",
      "fit LABEL_17\n"
     ]
    },
    {
     "name": "stderr",
     "output_type": "stream",
     "text": [
      "/home/mustafa/anaconda3/lib/python3.6/site-packages/sklearn/linear_model/logistic.py:1300: UserWarning:\n",
      "\n",
      "'n_jobs' > 1 does not have any effect when 'solver' is set to 'liblinear'. Got 'n_jobs' = 12.\n",
      "\n"
     ]
    },
    {
     "name": "stdout",
     "output_type": "stream",
     "text": [
      "Train accuracy is 0.9253571428571429\n",
      "Valid accuracy is 0.917\n",
      "fit LABEL_18\n"
     ]
    },
    {
     "name": "stderr",
     "output_type": "stream",
     "text": [
      "/home/mustafa/anaconda3/lib/python3.6/site-packages/sklearn/linear_model/logistic.py:1300: UserWarning:\n",
      "\n",
      "'n_jobs' > 1 does not have any effect when 'solver' is set to 'liblinear'. Got 'n_jobs' = 12.\n",
      "\n"
     ]
    },
    {
     "name": "stdout",
     "output_type": "stream",
     "text": [
      "Train accuracy is 0.9439285714285715\n",
      "Valid accuracy is 0.93125\n",
      "fit LABEL_19\n"
     ]
    },
    {
     "name": "stderr",
     "output_type": "stream",
     "text": [
      "/home/mustafa/anaconda3/lib/python3.6/site-packages/sklearn/linear_model/logistic.py:1300: UserWarning:\n",
      "\n",
      "'n_jobs' > 1 does not have any effect when 'solver' is set to 'liblinear'. Got 'n_jobs' = 12.\n",
      "\n"
     ]
    },
    {
     "name": "stdout",
     "output_type": "stream",
     "text": [
      "Train accuracy is 0.9843214285714286\n",
      "Valid accuracy is 0.9698333333333333\n",
      "fit LABEL_20\n"
     ]
    },
    {
     "name": "stderr",
     "output_type": "stream",
     "text": [
      "/home/mustafa/anaconda3/lib/python3.6/site-packages/sklearn/linear_model/logistic.py:1300: UserWarning:\n",
      "\n",
      "'n_jobs' > 1 does not have any effect when 'solver' is set to 'liblinear'. Got 'n_jobs' = 12.\n",
      "\n"
     ]
    },
    {
     "name": "stdout",
     "output_type": "stream",
     "text": [
      "Train accuracy is 0.9723928571428572\n",
      "Valid accuracy is 0.9585\n",
      "fit LABEL_21\n"
     ]
    },
    {
     "name": "stderr",
     "output_type": "stream",
     "text": [
      "/home/mustafa/anaconda3/lib/python3.6/site-packages/sklearn/linear_model/logistic.py:1300: UserWarning:\n",
      "\n",
      "'n_jobs' > 1 does not have any effect when 'solver' is set to 'liblinear'. Got 'n_jobs' = 12.\n",
      "\n"
     ]
    },
    {
     "name": "stdout",
     "output_type": "stream",
     "text": [
      "Train accuracy is 0.9906785714285714\n",
      "Valid accuracy is 0.9799166666666667\n",
      "fit LABEL_22\n"
     ]
    },
    {
     "name": "stderr",
     "output_type": "stream",
     "text": [
      "/home/mustafa/anaconda3/lib/python3.6/site-packages/sklearn/linear_model/logistic.py:1300: UserWarning:\n",
      "\n",
      "'n_jobs' > 1 does not have any effect when 'solver' is set to 'liblinear'. Got 'n_jobs' = 12.\n",
      "\n"
     ]
    },
    {
     "name": "stdout",
     "output_type": "stream",
     "text": [
      "Train accuracy is 0.9690357142857143\n",
      "Valid accuracy is 0.95475\n",
      "fit LABEL_23\n"
     ]
    },
    {
     "name": "stderr",
     "output_type": "stream",
     "text": [
      "/home/mustafa/anaconda3/lib/python3.6/site-packages/sklearn/linear_model/logistic.py:1300: UserWarning:\n",
      "\n",
      "'n_jobs' > 1 does not have any effect when 'solver' is set to 'liblinear'. Got 'n_jobs' = 12.\n",
      "\n"
     ]
    },
    {
     "name": "stdout",
     "output_type": "stream",
     "text": [
      "Train accuracy is 0.9851428571428571\n",
      "Valid accuracy is 0.9784166666666667\n",
      "fit LABEL_24\n"
     ]
    },
    {
     "name": "stderr",
     "output_type": "stream",
     "text": [
      "/home/mustafa/anaconda3/lib/python3.6/site-packages/sklearn/linear_model/logistic.py:1300: UserWarning:\n",
      "\n",
      "'n_jobs' > 1 does not have any effect when 'solver' is set to 'liblinear'. Got 'n_jobs' = 12.\n",
      "\n"
     ]
    },
    {
     "name": "stdout",
     "output_type": "stream",
     "text": [
      "Train accuracy is 0.9956428571428572\n",
      "Valid accuracy is 0.9906666666666667\n",
      "fit LABEL_25\n"
     ]
    },
    {
     "name": "stderr",
     "output_type": "stream",
     "text": [
      "/home/mustafa/anaconda3/lib/python3.6/site-packages/sklearn/linear_model/logistic.py:1300: UserWarning:\n",
      "\n",
      "'n_jobs' > 1 does not have any effect when 'solver' is set to 'liblinear'. Got 'n_jobs' = 12.\n",
      "\n"
     ]
    },
    {
     "name": "stdout",
     "output_type": "stream",
     "text": [
      "Train accuracy is 0.9761428571428571\n",
      "Valid accuracy is 0.9724166666666667\n",
      "fit LABEL_26\n"
     ]
    },
    {
     "name": "stderr",
     "output_type": "stream",
     "text": [
      "/home/mustafa/anaconda3/lib/python3.6/site-packages/sklearn/linear_model/logistic.py:1300: UserWarning:\n",
      "\n",
      "'n_jobs' > 1 does not have any effect when 'solver' is set to 'liblinear'. Got 'n_jobs' = 12.\n",
      "\n"
     ]
    },
    {
     "name": "stdout",
     "output_type": "stream",
     "text": [
      "Train accuracy is 0.9810714285714286\n",
      "Valid accuracy is 0.9723333333333334\n",
      "fit LABEL_27\n"
     ]
    },
    {
     "name": "stderr",
     "output_type": "stream",
     "text": [
      "/home/mustafa/anaconda3/lib/python3.6/site-packages/sklearn/linear_model/logistic.py:1300: UserWarning:\n",
      "\n",
      "'n_jobs' > 1 does not have any effect when 'solver' is set to 'liblinear'. Got 'n_jobs' = 12.\n",
      "\n"
     ]
    },
    {
     "name": "stdout",
     "output_type": "stream",
     "text": [
      "Train accuracy is 0.9955714285714286\n",
      "Valid accuracy is 0.9884166666666667\n",
      "fit LABEL_28\n"
     ]
    },
    {
     "name": "stderr",
     "output_type": "stream",
     "text": [
      "/home/mustafa/anaconda3/lib/python3.6/site-packages/sklearn/linear_model/logistic.py:1300: UserWarning:\n",
      "\n",
      "'n_jobs' > 1 does not have any effect when 'solver' is set to 'liblinear'. Got 'n_jobs' = 12.\n",
      "\n"
     ]
    },
    {
     "name": "stdout",
     "output_type": "stream",
     "text": [
      "Train accuracy is 0.9899642857142857\n",
      "Valid accuracy is 0.9831666666666666\n",
      "fit LABEL_29\n"
     ]
    },
    {
     "name": "stderr",
     "output_type": "stream",
     "text": [
      "/home/mustafa/anaconda3/lib/python3.6/site-packages/sklearn/linear_model/logistic.py:1300: UserWarning:\n",
      "\n",
      "'n_jobs' > 1 does not have any effect when 'solver' is set to 'liblinear'. Got 'n_jobs' = 12.\n",
      "\n"
     ]
    },
    {
     "name": "stdout",
     "output_type": "stream",
     "text": [
      "Train accuracy is 0.9950714285714286\n",
      "Valid accuracy is 0.9941666666666666\n",
      "fit LABEL_30\n"
     ]
    },
    {
     "name": "stderr",
     "output_type": "stream",
     "text": [
      "/home/mustafa/anaconda3/lib/python3.6/site-packages/sklearn/linear_model/logistic.py:1300: UserWarning:\n",
      "\n",
      "'n_jobs' > 1 does not have any effect when 'solver' is set to 'liblinear'. Got 'n_jobs' = 12.\n",
      "\n"
     ]
    },
    {
     "name": "stdout",
     "output_type": "stream",
     "text": [
      "Train accuracy is 0.9817857142857143\n",
      "Valid accuracy is 0.9709166666666667\n",
      "fit LABEL_31\n"
     ]
    },
    {
     "name": "stderr",
     "output_type": "stream",
     "text": [
      "/home/mustafa/anaconda3/lib/python3.6/site-packages/sklearn/linear_model/logistic.py:1300: UserWarning:\n",
      "\n",
      "'n_jobs' > 1 does not have any effect when 'solver' is set to 'liblinear'. Got 'n_jobs' = 12.\n",
      "\n"
     ]
    },
    {
     "name": "stdout",
     "output_type": "stream",
     "text": [
      "Train accuracy is 0.9914642857142857\n",
      "Valid accuracy is 0.9863333333333333\n",
      "fit LABEL_32\n"
     ]
    },
    {
     "name": "stderr",
     "output_type": "stream",
     "text": [
      "/home/mustafa/anaconda3/lib/python3.6/site-packages/sklearn/linear_model/logistic.py:1300: UserWarning:\n",
      "\n",
      "'n_jobs' > 1 does not have any effect when 'solver' is set to 'liblinear'. Got 'n_jobs' = 12.\n",
      "\n"
     ]
    },
    {
     "name": "stdout",
     "output_type": "stream",
     "text": [
      "Train accuracy is 0.9824285714285714\n",
      "Valid accuracy is 0.9731666666666666\n",
      "fit LABEL_33\n"
     ]
    },
    {
     "name": "stderr",
     "output_type": "stream",
     "text": [
      "/home/mustafa/anaconda3/lib/python3.6/site-packages/sklearn/linear_model/logistic.py:1300: UserWarning:\n",
      "\n",
      "'n_jobs' > 1 does not have any effect when 'solver' is set to 'liblinear'. Got 'n_jobs' = 12.\n",
      "\n"
     ]
    },
    {
     "name": "stdout",
     "output_type": "stream",
     "text": [
      "Train accuracy is 0.9966785714285714\n",
      "Valid accuracy is 0.99175\n",
      "fit LABEL_34\n"
     ]
    },
    {
     "name": "stderr",
     "output_type": "stream",
     "text": [
      "/home/mustafa/anaconda3/lib/python3.6/site-packages/sklearn/linear_model/logistic.py:1300: UserWarning:\n",
      "\n",
      "'n_jobs' > 1 does not have any effect when 'solver' is set to 'liblinear'. Got 'n_jobs' = 12.\n",
      "\n"
     ]
    },
    {
     "name": "stdout",
     "output_type": "stream",
     "text": [
      "Train accuracy is 0.9939285714285714\n",
      "Valid accuracy is 0.9871666666666666\n",
      "fit LABEL_35\n"
     ]
    },
    {
     "name": "stderr",
     "output_type": "stream",
     "text": [
      "/home/mustafa/anaconda3/lib/python3.6/site-packages/sklearn/linear_model/logistic.py:1300: UserWarning:\n",
      "\n",
      "'n_jobs' > 1 does not have any effect when 'solver' is set to 'liblinear'. Got 'n_jobs' = 12.\n",
      "\n"
     ]
    },
    {
     "name": "stdout",
     "output_type": "stream",
     "text": [
      "Train accuracy is 0.9898214285714285\n",
      "Valid accuracy is 0.98075\n",
      "fit LABEL_36\n"
     ]
    },
    {
     "name": "stderr",
     "output_type": "stream",
     "text": [
      "/home/mustafa/anaconda3/lib/python3.6/site-packages/sklearn/linear_model/logistic.py:1300: UserWarning:\n",
      "\n",
      "'n_jobs' > 1 does not have any effect when 'solver' is set to 'liblinear'. Got 'n_jobs' = 12.\n",
      "\n"
     ]
    },
    {
     "name": "stdout",
     "output_type": "stream",
     "text": [
      "Train accuracy is 0.9836785714285714\n",
      "Valid accuracy is 0.9780833333333333\n",
      "fit LABEL_37\n"
     ]
    },
    {
     "name": "stderr",
     "output_type": "stream",
     "text": [
      "/home/mustafa/anaconda3/lib/python3.6/site-packages/sklearn/linear_model/logistic.py:1300: UserWarning:\n",
      "\n",
      "'n_jobs' > 1 does not have any effect when 'solver' is set to 'liblinear'. Got 'n_jobs' = 12.\n",
      "\n"
     ]
    },
    {
     "name": "stdout",
     "output_type": "stream",
     "text": [
      "Train accuracy is 0.9970357142857142\n",
      "Valid accuracy is 0.9948333333333333\n",
      "fit LABEL_38\n"
     ]
    },
    {
     "name": "stderr",
     "output_type": "stream",
     "text": [
      "/home/mustafa/anaconda3/lib/python3.6/site-packages/sklearn/linear_model/logistic.py:1300: UserWarning:\n",
      "\n",
      "'n_jobs' > 1 does not have any effect when 'solver' is set to 'liblinear'. Got 'n_jobs' = 12.\n",
      "\n"
     ]
    },
    {
     "name": "stdout",
     "output_type": "stream",
     "text": [
      "Train accuracy is 0.97125\n",
      "Valid accuracy is 0.9699166666666666\n",
      "fit LABEL_39\n"
     ]
    },
    {
     "name": "stderr",
     "output_type": "stream",
     "text": [
      "/home/mustafa/anaconda3/lib/python3.6/site-packages/sklearn/linear_model/logistic.py:1300: UserWarning:\n",
      "\n",
      "'n_jobs' > 1 does not have any effect when 'solver' is set to 'liblinear'. Got 'n_jobs' = 12.\n",
      "\n"
     ]
    },
    {
     "name": "stdout",
     "output_type": "stream",
     "text": [
      "Train accuracy is 0.9932857142857143\n",
      "Valid accuracy is 0.9858333333333333\n",
      "fit LABEL_40\n"
     ]
    },
    {
     "name": "stderr",
     "output_type": "stream",
     "text": [
      "/home/mustafa/anaconda3/lib/python3.6/site-packages/sklearn/linear_model/logistic.py:1300: UserWarning:\n",
      "\n",
      "'n_jobs' > 1 does not have any effect when 'solver' is set to 'liblinear'. Got 'n_jobs' = 12.\n",
      "\n"
     ]
    },
    {
     "name": "stdout",
     "output_type": "stream",
     "text": [
      "Train accuracy is 0.9942142857142857\n",
      "Valid accuracy is 0.9915\n",
      "fit LABEL_41\n"
     ]
    },
    {
     "name": "stderr",
     "output_type": "stream",
     "text": [
      "/home/mustafa/anaconda3/lib/python3.6/site-packages/sklearn/linear_model/logistic.py:1300: UserWarning:\n",
      "\n",
      "'n_jobs' > 1 does not have any effect when 'solver' is set to 'liblinear'. Got 'n_jobs' = 12.\n",
      "\n"
     ]
    },
    {
     "name": "stdout",
     "output_type": "stream",
     "text": [
      "Train accuracy is 0.9946071428571429\n",
      "Valid accuracy is 0.989\n",
      "fit LABEL_42\n"
     ]
    },
    {
     "name": "stderr",
     "output_type": "stream",
     "text": [
      "/home/mustafa/anaconda3/lib/python3.6/site-packages/sklearn/linear_model/logistic.py:1300: UserWarning:\n",
      "\n",
      "'n_jobs' > 1 does not have any effect when 'solver' is set to 'liblinear'. Got 'n_jobs' = 12.\n",
      "\n"
     ]
    },
    {
     "name": "stdout",
     "output_type": "stream",
     "text": [
      "Train accuracy is 0.9978214285714285\n",
      "Valid accuracy is 0.9946666666666667\n",
      "fit LABEL_43\n"
     ]
    },
    {
     "name": "stderr",
     "output_type": "stream",
     "text": [
      "/home/mustafa/anaconda3/lib/python3.6/site-packages/sklearn/linear_model/logistic.py:1300: UserWarning:\n",
      "\n",
      "'n_jobs' > 1 does not have any effect when 'solver' is set to 'liblinear'. Got 'n_jobs' = 12.\n",
      "\n"
     ]
    },
    {
     "name": "stdout",
     "output_type": "stream",
     "text": [
      "Train accuracy is 0.9988571428571429\n",
      "Valid accuracy is 0.9974166666666666\n",
      "fit LABEL_44\n"
     ]
    },
    {
     "name": "stderr",
     "output_type": "stream",
     "text": [
      "/home/mustafa/anaconda3/lib/python3.6/site-packages/sklearn/linear_model/logistic.py:1300: UserWarning:\n",
      "\n",
      "'n_jobs' > 1 does not have any effect when 'solver' is set to 'liblinear'. Got 'n_jobs' = 12.\n",
      "\n"
     ]
    },
    {
     "name": "stdout",
     "output_type": "stream",
     "text": [
      "Train accuracy is 0.9983571428571428\n",
      "Valid accuracy is 0.99575\n",
      "fit LABEL_45\n"
     ]
    },
    {
     "name": "stderr",
     "output_type": "stream",
     "text": [
      "/home/mustafa/anaconda3/lib/python3.6/site-packages/sklearn/linear_model/logistic.py:1300: UserWarning:\n",
      "\n",
      "'n_jobs' > 1 does not have any effect when 'solver' is set to 'liblinear'. Got 'n_jobs' = 12.\n",
      "\n"
     ]
    },
    {
     "name": "stdout",
     "output_type": "stream",
     "text": [
      "Train accuracy is 0.9941785714285715\n",
      "Valid accuracy is 0.98775\n",
      "fit LABEL_46\n"
     ]
    },
    {
     "name": "stderr",
     "output_type": "stream",
     "text": [
      "/home/mustafa/anaconda3/lib/python3.6/site-packages/sklearn/linear_model/logistic.py:1300: UserWarning:\n",
      "\n",
      "'n_jobs' > 1 does not have any effect when 'solver' is set to 'liblinear'. Got 'n_jobs' = 12.\n",
      "\n"
     ]
    },
    {
     "name": "stdout",
     "output_type": "stream",
     "text": [
      "Train accuracy is 0.9992857142857143\n",
      "Valid accuracy is 0.9960833333333333\n",
      "fit LABEL_47\n"
     ]
    },
    {
     "name": "stderr",
     "output_type": "stream",
     "text": [
      "/home/mustafa/anaconda3/lib/python3.6/site-packages/sklearn/linear_model/logistic.py:1300: UserWarning:\n",
      "\n",
      "'n_jobs' > 1 does not have any effect when 'solver' is set to 'liblinear'. Got 'n_jobs' = 12.\n",
      "\n"
     ]
    },
    {
     "name": "stdout",
     "output_type": "stream",
     "text": [
      "Train accuracy is 0.9993214285714286\n",
      "Valid accuracy is 0.99675\n",
      "fit LABEL_48\n"
     ]
    },
    {
     "name": "stderr",
     "output_type": "stream",
     "text": [
      "/home/mustafa/anaconda3/lib/python3.6/site-packages/sklearn/linear_model/logistic.py:1300: UserWarning:\n",
      "\n",
      "'n_jobs' > 1 does not have any effect when 'solver' is set to 'liblinear'. Got 'n_jobs' = 12.\n",
      "\n"
     ]
    },
    {
     "name": "stdout",
     "output_type": "stream",
     "text": [
      "Train accuracy is 1.0\n",
      "Valid accuracy is 0.9983333333333333\n",
      "fit LABEL_49\n"
     ]
    },
    {
     "name": "stderr",
     "output_type": "stream",
     "text": [
      "/home/mustafa/anaconda3/lib/python3.6/site-packages/sklearn/linear_model/logistic.py:1300: UserWarning:\n",
      "\n",
      "'n_jobs' > 1 does not have any effect when 'solver' is set to 'liblinear'. Got 'n_jobs' = 12.\n",
      "\n"
     ]
    },
    {
     "name": "stdout",
     "output_type": "stream",
     "text": [
      "Train accuracy is 0.9995357142857143\n",
      "Valid accuracy is 0.9969166666666667\n",
      "fit LABEL_50\n"
     ]
    },
    {
     "name": "stderr",
     "output_type": "stream",
     "text": [
      "/home/mustafa/anaconda3/lib/python3.6/site-packages/sklearn/linear_model/logistic.py:1300: UserWarning:\n",
      "\n",
      "'n_jobs' > 1 does not have any effect when 'solver' is set to 'liblinear'. Got 'n_jobs' = 12.\n",
      "\n"
     ]
    },
    {
     "name": "stdout",
     "output_type": "stream",
     "text": [
      "Train accuracy is 0.9983928571428572\n",
      "Valid accuracy is 0.9921666666666666\n",
      "fit LABEL_51\n"
     ]
    },
    {
     "name": "stderr",
     "output_type": "stream",
     "text": [
      "/home/mustafa/anaconda3/lib/python3.6/site-packages/sklearn/linear_model/logistic.py:1300: UserWarning:\n",
      "\n",
      "'n_jobs' > 1 does not have any effect when 'solver' is set to 'liblinear'. Got 'n_jobs' = 12.\n",
      "\n"
     ]
    },
    {
     "name": "stdout",
     "output_type": "stream",
     "text": [
      "Train accuracy is 1.0\n",
      "Valid accuracy is 0.9988333333333334\n",
      "fit LABEL_52\n"
     ]
    },
    {
     "name": "stderr",
     "output_type": "stream",
     "text": [
      "/home/mustafa/anaconda3/lib/python3.6/site-packages/sklearn/linear_model/logistic.py:1300: UserWarning:\n",
      "\n",
      "'n_jobs' > 1 does not have any effect when 'solver' is set to 'liblinear'. Got 'n_jobs' = 12.\n",
      "\n"
     ]
    },
    {
     "name": "stdout",
     "output_type": "stream",
     "text": [
      "Train accuracy is 0.9993928571428572\n",
      "Valid accuracy is 0.999\n",
      "fit LABEL_53\n"
     ]
    },
    {
     "name": "stderr",
     "output_type": "stream",
     "text": [
      "/home/mustafa/anaconda3/lib/python3.6/site-packages/sklearn/linear_model/logistic.py:1300: UserWarning:\n",
      "\n",
      "'n_jobs' > 1 does not have any effect when 'solver' is set to 'liblinear'. Got 'n_jobs' = 12.\n",
      "\n"
     ]
    },
    {
     "name": "stdout",
     "output_type": "stream",
     "text": [
      "Train accuracy is 0.9998571428571429\n",
      "Valid accuracy is 0.9975833333333334\n",
      "fit LABEL_54\n"
     ]
    },
    {
     "name": "stderr",
     "output_type": "stream",
     "text": [
      "/home/mustafa/anaconda3/lib/python3.6/site-packages/sklearn/linear_model/logistic.py:1300: UserWarning:\n",
      "\n",
      "'n_jobs' > 1 does not have any effect when 'solver' is set to 'liblinear'. Got 'n_jobs' = 12.\n",
      "\n"
     ]
    },
    {
     "name": "stdout",
     "output_type": "stream",
     "text": [
      "Train accuracy is 0.9997142857142857\n",
      "Valid accuracy is 0.9971666666666666\n",
      "fit LABEL_55\n"
     ]
    },
    {
     "name": "stderr",
     "output_type": "stream",
     "text": [
      "/home/mustafa/anaconda3/lib/python3.6/site-packages/sklearn/linear_model/logistic.py:1300: UserWarning:\n",
      "\n",
      "'n_jobs' > 1 does not have any effect when 'solver' is set to 'liblinear'. Got 'n_jobs' = 12.\n",
      "\n"
     ]
    },
    {
     "name": "stdout",
     "output_type": "stream",
     "text": [
      "Train accuracy is 0.9999642857142857\n",
      "Valid accuracy is 0.9975833333333334\n",
      "fit LABEL_56\n"
     ]
    },
    {
     "name": "stderr",
     "output_type": "stream",
     "text": [
      "/home/mustafa/anaconda3/lib/python3.6/site-packages/sklearn/linear_model/logistic.py:1300: UserWarning:\n",
      "\n",
      "'n_jobs' > 1 does not have any effect when 'solver' is set to 'liblinear'. Got 'n_jobs' = 12.\n",
      "\n"
     ]
    },
    {
     "name": "stdout",
     "output_type": "stream",
     "text": [
      "Train accuracy is 0.9997142857142857\n",
      "Valid accuracy is 0.9991666666666666\n"
     ]
    }
   ],
   "source": [
    "class NbSvmClassifier(BaseEstimator, ClassifierMixin):\n",
    "    def __init__(self, C=1.0, dual=False, n_jobs=1):\n",
    "        self.C = C\n",
    "        self.dual = dual\n",
    "        self.n_jobs = n_jobs\n",
    "\n",
    "    def predict(self, x):\n",
    "        # Verify that model has been fit\n",
    "        check_is_fitted(self, ['_r', '_clf'])\n",
    "        return self._clf.predict(x.multiply(self._r))\n",
    "\n",
    "    def predict_proba(self, x):\n",
    "        # Verify that model has been fit\n",
    "        check_is_fitted(self, ['_r', '_clf'])\n",
    "        return self._clf.predict_proba(x.multiply(self._r))\n",
    "\n",
    "    def fit(self, x, y):\n",
    "        # Check that X and y have correct shape\n",
    "        x, y = check_X_y(x, y, accept_sparse=True)\n",
    "\n",
    "        def pr(x, y_i, y):\n",
    "            p = x[y==y_i].sum(0)\n",
    "            return (p+1) / ((y==y_i).sum()+1)\n",
    "\n",
    "        self._r = sparse.csr_matrix(np.log(pr(x,1,y) / pr(x,0,y)))\n",
    "        x_nb = x.multiply(self._r)\n",
    "        self._clf = LogisticRegression(C=self.C, dual=self.dual, n_jobs=self.n_jobs).fit(x_nb, y)\n",
    "        return self\n",
    "    \n",
    "\n",
    "\n",
    "preds = np.zeros((len(test), len(label_cols)))\n",
    "\n",
    "for i, category in enumerate(label_cols):\n",
    "    print('fit', category)\n",
    "    \n",
    "    modelNbSvm = NbSvmClassifier(C=1, dual=True, n_jobs=-1)\n",
    "    modelNbSvm.fit(train_term_doc, train[category])\n",
    "    \n",
    "     # Train Predict\n",
    "    prediction = modelNbSvm.predict(train_term_doc)\n",
    "    accuracy   = accuracy_score(train[category], prediction)\n",
    "    print('Train accuracy is {}'.format(accuracy))\n",
    "\n",
    "    # Valid Predict\n",
    "    prediction = modelNbSvm.predict(valid_term_doc)\n",
    "    accuracy   = accuracy_score(valid[category], prediction)\n",
    "    print('Valid accuracy is {}'.format(accuracy))\n",
    "\n",
    "    # Test Predict \n",
    "    prediction = modelNbSvm.predict(test_term_doc)\n",
    "    preds[:,i] = prediction\n",
    "\n",
    "\n",
    "preds = pd.DataFrame(preds)\n",
    "preds = preds.add_prefix(\"LABEL_\")\n",
    "preds.to_csv(\"Results/tfidf_nbsvm.csv\", index=False)"
   ]
  },
  {
   "cell_type": "markdown",
   "metadata": {},
   "source": [
    "# Word2Vec and GloVe"
   ]
  },
  {
   "cell_type": "code",
   "execution_count": 8,
   "metadata": {},
   "outputs": [
    {
     "name": "stdout",
     "output_type": "stream",
     "text": [
      "Loss after epoch 0: 7840792.5\n",
      "Loss after epoch 1: 14309676.0\n",
      "Loss after epoch 2: 20485760.0\n",
      "Loss after epoch 3: 26459962.0\n",
      "Loss after epoch 4: 32381460.0\n",
      "Loss after epoch 5: 36638956.0\n",
      "Loss after epoch 6: 40357944.0\n",
      "Loss after epoch 7: 44082220.0\n",
      "Loss after epoch 8: 47861784.0\n",
      "Loss after epoch 9: 51559424.0\n",
      "Loss after epoch 10: 55286384.0\n",
      "Loss after epoch 11: 58958736.0\n",
      "Loss after epoch 12: 62597028.0\n",
      "Loss after epoch 13: 66283624.0\n",
      "Loss after epoch 14: 67130264.0\n",
      "Loss after epoch 15: 67156536.0\n",
      "Loss after epoch 16: 67182016.0\n",
      "Loss after epoch 17: 67206944.0\n",
      "Loss after epoch 18: 67228720.0\n",
      "Loss after epoch 19: 67248960.0\n"
     ]
    }
   ],
   "source": [
    "from gensim.test.utils import common_texts, get_tmpfile\n",
    "from gensim.models import Word2Vec\n",
    "from gensim.models.callbacks import CallbackAny2Vec\n",
    "\n",
    "class callback(CallbackAny2Vec):\n",
    "    '''Callback to print loss after each epoch.'''\n",
    "\n",
    "    def __init__(self):\n",
    "        self.epoch = 0\n",
    "\n",
    "    def on_epoch_end(self, model):\n",
    "        loss = model.get_latest_training_loss()\n",
    "        print('Loss after epoch {}: {}'.format(self.epoch, loss))\n",
    "        self.epoch += 1\n",
    "\n",
    "word2vec_path = \"Models/word2vec.model\"\n",
    "\n",
    "if(os.path.exists(word2vec_path)):\n",
    "    word2vecModel = Word2Vec.load(word2vec_path)\n",
    "else:\n",
    "    word2vecModel = Word2Vec(train[\"LIST_TXT_agent\"] + train[\"LIST_TXT_cust\"],\n",
    "                     size=300,\n",
    "                     window=10,\n",
    "                     min_count=5,\n",
    "                     workers=12,\n",
    "                     negative=5,\n",
    "                     iter=20, #epochs\n",
    "                     sg=1, # skipgram=1   cbow=0\n",
    "                     compute_loss=True,\n",
    "                     callbacks=[callback()]) \n",
    "    word2vecModel.save(word2vec_path)"
   ]
  },
  {
   "cell_type": "code",
   "execution_count": 9,
   "metadata": {},
   "outputs": [],
   "source": [
    "# write txt for train GloVe\n",
    "with open(\"GloVe-master/glove_data.txt\", 'w') as file_handler:\n",
    "    for item in train_text:\n",
    "        file_handler.write(\"{}\\n\".format(item))   "
   ]
  },
  {
   "cell_type": "markdown",
   "metadata": {},
   "source": [
    "# Glove Dizinine Gidilip Aşağıdaki Komutların Çalıştırılması Gerek"
   ]
  },
  {
   "cell_type": "code",
   "execution_count": 10,
   "metadata": {},
   "outputs": [],
   "source": [
    "# cd GloVe-master/\n",
    "# ./demo.sh\n",
    "# cd .."
   ]
  },
  {
   "cell_type": "code",
   "execution_count": 11,
   "metadata": {},
   "outputs": [],
   "source": [
    "# convert glove to gensim format\n",
    "from gensim.models import KeyedVectors\n",
    "from gensim.scripts.glove2word2vec import glove2word2vec\n",
    "\n",
    "glove_file = \"GloVe-master/vectors.txt\"\n",
    "tmp_file   = \"GloVe-master/glove_word2vec.txt\"\n",
    "\n",
    "_ = glove2word2vec(glove_file, tmp_file)\n",
    "\n",
    "gloveModel = KeyedVectors.load_word2vec_format(tmp_file)"
   ]
  },
  {
   "cell_type": "markdown",
   "metadata": {},
   "source": [
    "# Deep Learning Part\n",
    "# Create Embedding Matrix and Train Models"
   ]
  },
  {
   "cell_type": "code",
   "execution_count": 14,
   "metadata": {},
   "outputs": [
    {
     "name": "stderr",
     "output_type": "stream",
     "text": [
      "/home/mustafa/anaconda3/lib/python3.6/site-packages/ipykernel_launcher.py:16: DeprecationWarning:\n",
      "\n",
      "Call to deprecated `wv` (Attribute will be removed in 4.0.0, use self instead).\n",
      "\n",
      "/home/mustafa/anaconda3/lib/python3.6/site-packages/ipykernel_launcher.py:16: DeprecationWarning:\n",
      "\n",
      "Call to deprecated `syn0` (Attribute will be removed in 4.0.0, use self.vectors instead).\n",
      "\n",
      "/home/mustafa/anaconda3/lib/python3.6/site-packages/ipykernel_launcher.py:43: FutureWarning:\n",
      "\n",
      "arrays to stack must be passed as a \"sequence\" type such as list or tuple. Support for non-sequence iterables such as generators is deprecated as of NumPy 1.16 and will raise an error in the future.\n",
      "\n"
     ]
    }
   ],
   "source": [
    "from keras.preprocessing.text import Tokenizer\n",
    "from keras.preprocessing.sequence import pad_sequences\n",
    "\n",
    "from keras.layers import Dense, Input, LSTM, Embedding, Dropout, Activation\n",
    "from keras.layers import Bidirectional, GlobalMaxPool1D\n",
    "from keras.layers import Input, Embedding, Dense, Conv2D, MaxPool2D, Reshape, Concatenate, Flatten\n",
    "from keras.layers import GRU, Conv1D\n",
    "from keras.layers import GlobalAveragePooling1D, GlobalMaxPooling1D, concatenate, SpatialDropout1D\n",
    "\n",
    "from keras.models import Model\n",
    "from keras.optimizers import Adam\n",
    "\n",
    "#  ----> skipgram uncomment\n",
    "#embeddings_index = dict(zip(word2vecModel.wv.index2word, word2vecModel.wv.syn0))\n",
    "# -----> GloVe uncomment\n",
    "embeddings_index = dict(zip(gloveModel.wv.index2word, gloveModel.wv.syn0))\n",
    "\n",
    "\n",
    "\n",
    "embed_size   = gloveModel.vector_size    # how big is each word vector\n",
    "max_features = len(embeddings_index) # how many unique words to use (i.e num rows in embedding vector)\n",
    "maxlen = 100   # max number of words in a comment to use\n",
    "\n",
    "\n",
    "list_sentences_train = train_text\n",
    "list_sentences_valid = valid_text\n",
    "list_sentences_test  = test_text\n",
    "\n",
    "\n",
    "tokenizer = Tokenizer(num_words=max_features)\n",
    "tokenizer.fit_on_texts(list(list_sentences_train))\n",
    "\n",
    "list_tokenized_train = tokenizer.texts_to_sequences(list_sentences_train)\n",
    "list_tokenized_valid = tokenizer.texts_to_sequences(list_sentences_valid)\n",
    "list_tokenized_test  = tokenizer.texts_to_sequences(list_sentences_test)\n",
    "\n",
    "\n",
    "X_train = pad_sequences(list_tokenized_train, maxlen=maxlen)\n",
    "X_valid = pad_sequences(list_tokenized_valid, maxlen=maxlen)\n",
    "X_test  = pad_sequences(list_tokenized_test,  maxlen=maxlen)\n",
    "\n",
    "\n",
    "all_embs = np.stack(embeddings_index.values())\n",
    "emb_mean,emb_std = all_embs.mean(), all_embs.std()\n",
    "\n",
    "\n",
    "# Embedding Matrix\n",
    "word_index = tokenizer.word_index\n",
    "nb_words = min(max_features, len(word_index))\n",
    "embedding_matrix = np.random.normal(emb_mean, emb_std, (nb_words, embed_size))\n",
    "for word, i in word_index.items():\n",
    "    if i >= max_features:\n",
    "        continue\n",
    "        \n",
    "    embedding_vector = embeddings_index.get(word)\n",
    "    \n",
    "    if embedding_vector is not None:\n",
    "        embedding_matrix[i] = embedding_vector\n",
    "        \n",
    "y_train = train[label_cols].values"
   ]
  },
  {
   "cell_type": "markdown",
   "metadata": {},
   "source": [
    "# Define Deep Learning Models"
   ]
  },
  {
   "cell_type": "code",
   "execution_count": 15,
   "metadata": {},
   "outputs": [],
   "source": [
    "def biLSTM():\n",
    "    inp = Input(shape=(maxlen,))\n",
    "    x = Embedding(max_features, embed_size, weights=[embedding_matrix])(inp)\n",
    "    x = Bidirectional(LSTM(64, return_sequences=True, dropout=0.1, recurrent_dropout=0.1))(x)\n",
    "    x = GlobalMaxPool1D()(x)\n",
    "    x = Dense(64, activation=\"relu\")(x)\n",
    "    x = Dropout(0.1)(x)\n",
    "    x = Dense(56, activation=\"sigmoid\")(x)\n",
    "    model = Model(inputs=inp, outputs=x)\n",
    "    model.compile(loss='binary_crossentropy', optimizer='adam', metrics=['accuracy'])\n",
    "    return model\n",
    "\n",
    "\n",
    "filter_sizes = [1,2,3,5]\n",
    "num_filters = 32\n",
    "\n",
    "def CNN():    \n",
    "    inp = Input(shape=(maxlen, ))\n",
    "    x = Embedding(max_features, embed_size, weights=[embedding_matrix])(inp)\n",
    "    x = SpatialDropout1D(0.4)(x)\n",
    "    x = Reshape((maxlen, embed_size, 1))(x)\n",
    "    \n",
    "    conv_0 = Conv2D(num_filters, kernel_size=(filter_sizes[0], embed_size), kernel_initializer='normal',\n",
    "                                                                                    activation='elu')(x)\n",
    "    conv_1 = Conv2D(num_filters, kernel_size=(filter_sizes[1], embed_size), kernel_initializer='normal',\n",
    "                                                                                    activation='elu')(x)\n",
    "    conv_2 = Conv2D(num_filters, kernel_size=(filter_sizes[2], embed_size), kernel_initializer='normal',\n",
    "                                                                                    activation='elu')(x)\n",
    "    conv_3 = Conv2D(num_filters, kernel_size=(filter_sizes[3], embed_size), kernel_initializer='normal',\n",
    "                                                                                    activation='elu')(x)\n",
    "    \n",
    "    maxpool_0 = MaxPool2D(pool_size=(maxlen - filter_sizes[0] + 1, 1))(conv_0)\n",
    "    maxpool_1 = MaxPool2D(pool_size=(maxlen - filter_sizes[1] + 1, 1))(conv_1)\n",
    "    maxpool_2 = MaxPool2D(pool_size=(maxlen - filter_sizes[2] + 1, 1))(conv_2)\n",
    "    maxpool_3 = MaxPool2D(pool_size=(maxlen - filter_sizes[3] + 1, 1))(conv_3)\n",
    "        \n",
    "    z = Concatenate(axis=1)([maxpool_0, maxpool_1, maxpool_2, maxpool_3])   \n",
    "    z = Flatten()(z)\n",
    "    z = Dropout(0.1)(z)\n",
    "        \n",
    "    outp = Dense(56, activation=\"sigmoid\")(z)\n",
    "    \n",
    "    model = Model(inputs=inp, outputs=outp)\n",
    "    model.compile(loss='binary_crossentropy',\n",
    "                  optimizer='adam',\n",
    "                  metrics=['accuracy'])\n",
    "\n",
    "    return model\n",
    "\n",
    "def biGRU_CNN():\n",
    "\n",
    "    sequence_input = Input(shape=(maxlen, ))\n",
    "    \n",
    "    x = Embedding(max_features,\n",
    "                  embed_size,\n",
    "                  weights=[embedding_matrix],\n",
    "                  trainable = False)(sequence_input)\n",
    "    \n",
    "    x = SpatialDropout1D(0.2)(x)\n",
    "    x = Bidirectional(GRU(128, return_sequences=True,dropout=0.1,recurrent_dropout=0.1))(x)\n",
    "    x = Conv1D(64, kernel_size = 3, padding = \"valid\", kernel_initializer = \"glorot_uniform\")(x)\n",
    "    \n",
    "    avg_pool = GlobalAveragePooling1D()(x)\n",
    "    max_pool = GlobalMaxPooling1D()(x)\n",
    "    \n",
    "    x = concatenate([avg_pool, max_pool]) \n",
    "    \n",
    "    preds = Dense(56, activation=\"sigmoid\")(x)\n",
    "    \n",
    "    model = Model(sequence_input, preds)\n",
    "    model.compile(loss='binary_crossentropy',\n",
    "                  optimizer=Adam(lr=1e-3),\n",
    "                  metrics=['accuracy'])\n",
    "    \n",
    "    return model"
   ]
  },
  {
   "cell_type": "code",
   "execution_count": 24,
   "metadata": {},
   "outputs": [
    {
     "name": "stdout",
     "output_type": "stream",
     "text": [
      "Train on 22400 samples, validate on 5600 samples\n",
      "Epoch 1/10\n",
      "22400/22400 [==============================] - 38s 2ms/step - loss: 0.2153 - acc: 0.9346 - val_loss: 0.1549 - val_acc: 0.9563\n",
      "Epoch 2/10\n",
      "22400/22400 [==============================] - 39s 2ms/step - loss: 0.1581 - acc: 0.9567 - val_loss: 0.1448 - val_acc: 0.9587\n",
      "Epoch 3/10\n",
      "22400/22400 [==============================] - 37s 2ms/step - loss: 0.1450 - acc: 0.9588 - val_loss: 0.1337 - val_acc: 0.9601\n",
      "Epoch 4/10\n",
      "22400/22400 [==============================] - 38s 2ms/step - loss: 0.1349 - acc: 0.9602 - val_loss: 0.1267 - val_acc: 0.9616\n",
      "Epoch 5/10\n",
      "22400/22400 [==============================] - 39s 2ms/step - loss: 0.1281 - acc: 0.9611 - val_loss: 0.1222 - val_acc: 0.9622\n",
      "Epoch 6/10\n",
      "22400/22400 [==============================] - 39s 2ms/step - loss: 0.1229 - acc: 0.9620 - val_loss: 0.1187 - val_acc: 0.9628\n",
      "Epoch 7/10\n",
      "22400/22400 [==============================] - 38s 2ms/step - loss: 0.1188 - acc: 0.9627 - val_loss: 0.1169 - val_acc: 0.9633\n",
      "Epoch 8/10\n",
      "22400/22400 [==============================] - 39s 2ms/step - loss: 0.1157 - acc: 0.9634 - val_loss: 0.1154 - val_acc: 0.9638\n",
      "Epoch 9/10\n",
      "22400/22400 [==============================] - 38s 2ms/step - loss: 0.1125 - acc: 0.9641 - val_loss: 0.1144 - val_acc: 0.9640\n",
      "Epoch 10/10\n",
      "22400/22400 [==============================] - 38s 2ms/step - loss: 0.1098 - acc: 0.9648 - val_loss: 0.1141 - val_acc: 0.9642\n",
      "12721/12721 [==============================] - 2s 127us/step\n",
      "Train on 22400 samples, validate on 5600 samples\n",
      "Epoch 1/10\n",
      "22400/22400 [==============================] - 12s 544us/step - loss: 0.2059 - acc: 0.9357 - val_loss: 0.1467 - val_acc: 0.9601\n",
      "Epoch 2/10\n",
      "22400/22400 [==============================] - 4s 177us/step - loss: 0.1472 - acc: 0.9592 - val_loss: 0.1338 - val_acc: 0.9619\n",
      "Epoch 3/10\n",
      "22400/22400 [==============================] - 4s 186us/step - loss: 0.1367 - acc: 0.9605 - val_loss: 0.1285 - val_acc: 0.9625\n",
      "Epoch 4/10\n",
      "22400/22400 [==============================] - 4s 193us/step - loss: 0.1305 - acc: 0.9613 - val_loss: 0.1249 - val_acc: 0.9630\n",
      "Epoch 5/10\n",
      "22400/22400 [==============================] - 4s 183us/step - loss: 0.1260 - acc: 0.9621 - val_loss: 0.1233 - val_acc: 0.9632\n",
      "Epoch 6/10\n",
      "22400/22400 [==============================] - 4s 182us/step - loss: 0.1224 - acc: 0.9628 - val_loss: 0.1212 - val_acc: 0.9636\n",
      "Epoch 7/10\n",
      "22400/22400 [==============================] - 4s 182us/step - loss: 0.1196 - acc: 0.9631 - val_loss: 0.1189 - val_acc: 0.9638\n",
      "Epoch 8/10\n",
      "22400/22400 [==============================] - 4s 180us/step - loss: 0.1173 - acc: 0.9636 - val_loss: 0.1203 - val_acc: 0.9633\n",
      "Epoch 9/10\n",
      "22400/22400 [==============================] - 4s 178us/step - loss: 0.1153 - acc: 0.9639 - val_loss: 0.1191 - val_acc: 0.9636\n",
      "Epoch 10/10\n",
      "22400/22400 [==============================] - 4s 174us/step - loss: 0.1131 - acc: 0.9642 - val_loss: 0.1192 - val_acc: 0.9634\n",
      "12721/12721 [==============================] - 1s 92us/step\n",
      "Train on 22400 samples, validate on 5600 samples\n",
      "Epoch 1/10\n",
      "22400/22400 [==============================] - 28s 1ms/step - loss: 0.1763 - acc: 0.9475 - val_loss: 0.1412 - val_acc: 0.9594\n",
      "Epoch 2/10\n",
      "22400/22400 [==============================] - 28s 1ms/step - loss: 0.1365 - acc: 0.9598 - val_loss: 0.1277 - val_acc: 0.9614\n",
      "Epoch 3/10\n",
      "22400/22400 [==============================] - 27s 1ms/step - loss: 0.1259 - acc: 0.9614 - val_loss: 0.1212 - val_acc: 0.9625\n",
      "Epoch 4/10\n",
      "22400/22400 [==============================] - 27s 1ms/step - loss: 0.1199 - acc: 0.9628 - val_loss: 0.1175 - val_acc: 0.9632\n",
      "Epoch 5/10\n",
      "22400/22400 [==============================] - 28s 1ms/step - loss: 0.1158 - acc: 0.9635 - val_loss: 0.1161 - val_acc: 0.9636\n",
      "Epoch 6/10\n",
      "22400/22400 [==============================] - 29s 1ms/step - loss: 0.1128 - acc: 0.9643 - val_loss: 0.1142 - val_acc: 0.9639\n",
      "Epoch 7/10\n",
      "22400/22400 [==============================] - 27s 1ms/step - loss: 0.1100 - acc: 0.9648 - val_loss: 0.1126 - val_acc: 0.9643\n",
      "Epoch 8/10\n",
      "22400/22400 [==============================] - 28s 1ms/step - loss: 0.1076 - acc: 0.9654 - val_loss: 0.1131 - val_acc: 0.9641\n",
      "Epoch 9/10\n",
      "22400/22400 [==============================] - 28s 1ms/step - loss: 0.1057 - acc: 0.9658 - val_loss: 0.1120 - val_acc: 0.9644\n",
      "Epoch 10/10\n",
      "22400/22400 [==============================] - 28s 1ms/step - loss: 0.1035 - acc: 0.9663 - val_loss: 0.1110 - val_acc: 0.9648\n",
      "12721/12721 [==============================] - 2s 147us/step\n"
     ]
    }
   ],
   "source": [
    "models = [biLSTM(), CNN(), biGRU_CNN()]\n",
    "names  = [\"biLSTM\", \"CNN\", \"biGRU_CNN\"]\n",
    "\n",
    "\n",
    "for name, model in zip(names, models):\n",
    "    model.fit(X_train,\n",
    "              y_train,\n",
    "              batch_size=128,\n",
    "              epochs=10,\n",
    "              validation_split=0.2)\n",
    "  \n",
    "    predictions = model.predict([X_test], batch_size=1024, verbose=1)\n",
    "    \n",
    "    predictions = pd.DataFrame(predictions)\n",
    "    predictions = predictions.add_prefix(\"LABEL_\")\n",
    "    predictions.to_csv(\"Results/\" + name + \".csv\", index=False)"
   ]
  },
  {
   "cell_type": "code",
   "execution_count": 25,
   "metadata": {
    "scrolled": true
   },
   "outputs": [
    {
     "name": "stdout",
     "output_type": "stream",
     "text": [
      "28000/28000 [==============================] - 3s 119us/step\n",
      "LABEL_0 Train accuracy is 0.9193928571428571\n",
      "LABEL_1 Train accuracy is 0.85025\n",
      "LABEL_2 Train accuracy is 0.9166785714285715\n",
      "LABEL_3 Train accuracy is 0.9113214285714286\n",
      "LABEL_4 Train accuracy is 0.9499642857142857\n",
      "LABEL_5 Train accuracy is 0.9621428571428572\n",
      "LABEL_6 Train accuracy is 0.9362142857142857\n",
      "LABEL_7 Train accuracy is 0.9442857142857143\n",
      "LABEL_8 Train accuracy is 0.9311785714285714\n",
      "LABEL_9 Train accuracy is 0.8926785714285714\n",
      "LABEL_10 Train accuracy is 0.9724285714285714\n",
      "LABEL_11 Train accuracy is 0.9545357142857143\n",
      "LABEL_12 Train accuracy is 0.9349642857142857\n",
      "LABEL_13 Train accuracy is 0.9350714285714286\n",
      "LABEL_14 Train accuracy is 0.9738214285714286\n",
      "LABEL_15 Train accuracy is 0.9826785714285714\n",
      "LABEL_16 Train accuracy is 0.91025\n",
      "LABEL_17 Train accuracy is 0.9275\n",
      "LABEL_18 Train accuracy is 0.9678214285714286\n",
      "LABEL_19 Train accuracy is 0.9538571428571428\n",
      "LABEL_20 Train accuracy is 0.976\n",
      "LABEL_21 Train accuracy is 0.9514642857142858\n",
      "LABEL_22 Train accuracy is 0.9718214285714286\n",
      "LABEL_23 Train accuracy is 0.9865714285714285\n",
      "LABEL_24 Train accuracy is 0.9656428571428571\n",
      "LABEL_25 Train accuracy is 0.9710357142857143\n",
      "LABEL_26 Train accuracy is 0.9848928571428571\n",
      "LABEL_27 Train accuracy is 0.9818571428571429\n",
      "LABEL_28 Train accuracy is 0.9846785714285714\n",
      "LABEL_29 Train accuracy is 0.9711785714285714\n",
      "LABEL_30 Train accuracy is 0.98275\n",
      "LABEL_31 Train accuracy is 0.9708214285714286\n",
      "LABEL_32 Train accuracy is 0.9858928571428571\n",
      "LABEL_33 Train accuracy is 0.9851428571428571\n",
      "LABEL_34 Train accuracy is 0.9781785714285715\n",
      "LABEL_35 Train accuracy is 0.9767142857142858\n",
      "LABEL_36 Train accuracy is 0.9908214285714285\n",
      "LABEL_37 Train accuracy is 0.9661071428571428\n",
      "LABEL_38 Train accuracy is 0.9813571428571428\n",
      "LABEL_39 Train accuracy is 0.9877857142857143\n",
      "LABEL_40 Train accuracy is 0.98425\n",
      "LABEL_41 Train accuracy is 0.9933214285714286\n",
      "LABEL_42 Train accuracy is 0.9949642857142857\n",
      "LABEL_43 Train accuracy is 0.9906428571428572\n",
      "LABEL_44 Train accuracy is 0.9856785714285714\n",
      "LABEL_45 Train accuracy is 0.9947857142857143\n",
      "LABEL_46 Train accuracy is 0.9962857142857143\n",
      "LABEL_47 Train accuracy is 0.9983571428571428\n",
      "LABEL_48 Train accuracy is 0.995\n",
      "LABEL_49 Train accuracy is 0.9925\n",
      "LABEL_50 Train accuracy is 0.9987857142857143\n",
      "LABEL_51 Train accuracy is 0.9962857142857143\n",
      "LABEL_52 Train accuracy is 0.9968928571428571\n",
      "LABEL_53 Train accuracy is 0.9967142857142857\n",
      "LABEL_54 Train accuracy is 0.9975357142857143\n",
      "LABEL_55 Train accuracy is 0.9971071428571429\n",
      "12000/12000 [==============================] - 1s 119us/step\n",
      "LABEL_0 Valid accuracy is 0.9156666666666666\n",
      "LABEL_1 Valid accuracy is 0.8275833333333333\n",
      "LABEL_2 Valid accuracy is 0.908\n",
      "LABEL_3 Valid accuracy is 0.8995833333333333\n",
      "LABEL_4 Valid accuracy is 0.9434166666666667\n",
      "LABEL_5 Valid accuracy is 0.94875\n",
      "LABEL_6 Valid accuracy is 0.9288333333333333\n",
      "LABEL_7 Valid accuracy is 0.94\n",
      "LABEL_8 Valid accuracy is 0.9224166666666667\n",
      "LABEL_9 Valid accuracy is 0.8789166666666667\n",
      "LABEL_10 Valid accuracy is 0.9676666666666667\n",
      "LABEL_11 Valid accuracy is 0.95075\n",
      "LABEL_12 Valid accuracy is 0.9271666666666667\n",
      "LABEL_13 Valid accuracy is 0.9295\n",
      "LABEL_14 Valid accuracy is 0.972\n",
      "LABEL_15 Valid accuracy is 0.98\n",
      "LABEL_16 Valid accuracy is 0.9075\n",
      "LABEL_17 Valid accuracy is 0.924\n",
      "LABEL_18 Valid accuracy is 0.9654166666666667\n",
      "LABEL_19 Valid accuracy is 0.9493333333333334\n",
      "LABEL_20 Valid accuracy is 0.9723333333333334\n",
      "LABEL_21 Valid accuracy is 0.9446666666666667\n",
      "LABEL_22 Valid accuracy is 0.97225\n",
      "LABEL_23 Valid accuracy is 0.9841666666666666\n",
      "LABEL_24 Valid accuracy is 0.9695833333333334\n",
      "LABEL_25 Valid accuracy is 0.9685\n",
      "LABEL_26 Valid accuracy is 0.9833333333333333\n",
      "LABEL_27 Valid accuracy is 0.9776666666666667\n",
      "LABEL_28 Valid accuracy is 0.98175\n",
      "LABEL_29 Valid accuracy is 0.9685833333333334\n",
      "LABEL_30 Valid accuracy is 0.9821666666666666\n",
      "LABEL_31 Valid accuracy is 0.9703333333333334\n",
      "LABEL_32 Valid accuracy is 0.9841666666666666\n",
      "LABEL_33 Valid accuracy is 0.9816666666666667\n",
      "LABEL_34 Valid accuracy is 0.9731666666666666\n",
      "LABEL_35 Valid accuracy is 0.97525\n",
      "LABEL_36 Valid accuracy is 0.9909166666666667\n",
      "LABEL_37 Valid accuracy is 0.9693333333333334\n",
      "LABEL_38 Valid accuracy is 0.9775833333333334\n",
      "LABEL_39 Valid accuracy is 0.9879166666666667\n",
      "LABEL_40 Valid accuracy is 0.98225\n",
      "LABEL_41 Valid accuracy is 0.9939166666666667\n",
      "LABEL_42 Valid accuracy is 0.9959166666666667\n",
      "LABEL_43 Valid accuracy is 0.9911666666666666\n",
      "LABEL_44 Valid accuracy is 0.9866666666666667\n",
      "LABEL_45 Valid accuracy is 0.994\n",
      "LABEL_46 Valid accuracy is 0.99675\n",
      "LABEL_47 Valid accuracy is 0.9983333333333333\n",
      "LABEL_48 Valid accuracy is 0.9946666666666667\n",
      "LABEL_49 Valid accuracy is 0.9923333333333333\n",
      "LABEL_50 Valid accuracy is 0.9988333333333334\n",
      "LABEL_51 Valid accuracy is 0.9965833333333334\n",
      "LABEL_52 Valid accuracy is 0.9965\n",
      "LABEL_53 Valid accuracy is 0.9971666666666666\n",
      "LABEL_54 Valid accuracy is 0.9975833333333334\n",
      "LABEL_55 Valid accuracy is 0.99775\n"
     ]
    }
   ],
   "source": [
    "predictions = model.predict([X_train], batch_size=1024, verbose=1)\n",
    "for category in range(predictions.shape[1]):\n",
    "\n",
    "    prediction = predictions[:, category]\n",
    "    prediction[prediction > 0.5] = 1\n",
    "    prediction[prediction < 0.5] = 0\n",
    "    prediction = prediction.astype(int)\n",
    "    # Train acc\n",
    "    accuracy   = accuracy_score(y_train[:,category], prediction)\n",
    "    print('LABEL_{} Train accuracy is {}'.format(category, accuracy))\n",
    "    \n",
    "predictions = model.predict([X_valid], batch_size=1024, verbose=1)\n",
    "for category in range(predictions.shape[1]):\n",
    "\n",
    "    prediction = predictions[:, category]\n",
    "    prediction[prediction > 0.5] = 1\n",
    "    prediction[prediction < 0.5] = 0\n",
    "    prediction = prediction.astype(int)\n",
    "    # Val acc\n",
    "    accuracy   = accuracy_score(y_valid.iloc[:, category], prediction)\n",
    "    print('LABEL_{} Valid accuracy is {}'.format(category, accuracy))"
   ]
  },
  {
   "cell_type": "code",
   "execution_count": null,
   "metadata": {},
   "outputs": [],
   "source": []
  }
 ],
 "metadata": {
  "kernelspec": {
   "display_name": "chatbot",
   "language": "python",
   "name": "chatbot"
  },
  "language_info": {
   "codemirror_mode": {
    "name": "ipython",
    "version": 3
   },
   "file_extension": ".py",
   "mimetype": "text/x-python",
   "name": "python",
   "nbconvert_exporter": "python",
   "pygments_lexer": "ipython3",
   "version": "3.6.8"
  }
 },
 "nbformat": 4,
 "nbformat_minor": 2
}
