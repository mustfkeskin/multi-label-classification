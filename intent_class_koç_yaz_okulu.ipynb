{
 "cells": [
  {
   "cell_type": "markdown",
   "metadata": {},
   "source": [
    "# Load Libraries"
   ]
  },
  {
   "cell_type": "code",
   "execution_count": 1,
   "metadata": {},
   "outputs": [
    {
     "name": "stderr",
     "output_type": "stream",
     "text": [
      "Using TensorFlow backend.\n"
     ]
    },
    {
     "name": "stdout",
     "output_type": "stream",
     "text": [
      "Couldn't import dot_parser, loading of dot files will not be possible.\n"
     ]
    },
    {
     "data": {
      "text/html": [
       "<script type=\"text/javascript\">window.PlotlyConfig = {MathJaxConfig: 'local'};</script><script type=\"text/javascript\">if (window.MathJax) {MathJax.Hub.Config({SVG: {font: \"STIX-Web\"}});}</script><script>requirejs.config({paths: { 'plotly': ['https://cdn.plot.ly/plotly-latest.min']},});if(!window._Plotly) {require(['plotly'],function(plotly) {window._Plotly=plotly;});}</script>"
      ],
      "text/vnd.plotly.v1+html": [
       "<script type=\"text/javascript\">window.PlotlyConfig = {MathJaxConfig: 'local'};</script><script type=\"text/javascript\">if (window.MathJax) {MathJax.Hub.Config({SVG: {font: \"STIX-Web\"}});}</script><script>requirejs.config({paths: { 'plotly': ['https://cdn.plot.ly/plotly-latest.min']},});if(!window._Plotly) {require(['plotly'],function(plotly) {window._Plotly=plotly;});}</script>"
      ]
     },
     "metadata": {},
     "output_type": "display_data"
    }
   ],
   "source": [
    "# Data Mungling Block\n",
    "import numpy as np\n",
    "import pandas as pd\n",
    "import os.path\n",
    "\n",
    "\n",
    "# Keras Block\n",
    "from keras.preprocessing.text import Tokenizer\n",
    "from keras.preprocessing.sequence import pad_sequences\n",
    "from keras.utils import to_categorical\n",
    "from keras.models import Sequential, load_model\n",
    "from keras.layers import Dense, LSTM, Bidirectional, Embedding, Dropout\n",
    "from keras.callbacks import ModelCheckpoint\n",
    "\n",
    "\n",
    "# Scikit Learn Block\n",
    "from sklearn.model_selection import train_test_split\n",
    "from sklearn.preprocessing import OneHotEncoder\n",
    "from sklearn.linear_model import LogisticRegression\n",
    "from sklearn.svm import LinearSVC\n",
    "from sklearn import svm\n",
    "from sklearn.pipeline import Pipeline\n",
    "from sklearn.metrics import accuracy_score\n",
    "from sklearn.multiclass import OneVsRestClassifier\n",
    "from sklearn.feature_extraction.text import CountVectorizer\n",
    "from sklearn.feature_extraction.text import TfidfVectorizer\n",
    "from sklearn.base import BaseEstimator, ClassifierMixin\n",
    "from sklearn.utils.validation import check_X_y, check_is_fitted\n",
    "from scipy import sparse\n",
    "\n",
    "\n",
    "# Data Visulation Block\n",
    "import seaborn as sns\n",
    "import matplotlib.pyplot as plt\n",
    "from plotly.offline import download_plotlyjs, init_notebook_mode, plot, iplot\n",
    "\n",
    "init_notebook_mode(connected=True)\n",
    "%matplotlib inline "
   ]
  },
  {
   "cell_type": "markdown",
   "metadata": {},
   "source": [
    "# Read Dataset"
   ]
  },
  {
   "cell_type": "code",
   "execution_count": 2,
   "metadata": {},
   "outputs": [],
   "source": [
    "X_train_cust  = pd.read_csv(\"Data/Koc_Yaz_Okulu_Data_Train_Cust.txt\", sep =\";\")\n",
    "X_train_agent = pd.read_csv(\"Data/Koc_Yaz_Okulu_Data_Train_Agent.txt\", sep =\";\")\n",
    "\n",
    "X_train_cust[\"LIST_TXT\"]  = X_train_cust[\"CUST_TXT\"].apply(lambda x: x.split(\" \"))\n",
    "X_train_agent[\"LIST_TXT\"] = X_train_agent[\"AGENT_TXT\"].apply(lambda x: x.split(\" \"))\n",
    "\n",
    "#label\n",
    "y_train = pd.read_csv(\"Data/Koc_Yaz_Okulu_Data_Train_Target.txt\", sep =\";\")\n",
    "\n",
    "X_train = pd.merge(X_train_agent, X_train_cust, how=\"inner\", on=[\"ID\"], suffixes=[\"_agent\", \"_cust\"])\n",
    "df      = pd.merge(X_train, y_train, how = \"inner\", on=[\"ID\"])\n",
    "\n",
    "# Columns start with \"LABEL_\"\n",
    "label_cols = []\n",
    "for col in df.columns:\n",
    "    if(\"LABEL\" in col):\n",
    "        label_cols.append(col)"
   ]
  },
  {
   "cell_type": "markdown",
   "metadata": {},
   "source": [
    "# Test Data For Submission"
   ]
  },
  {
   "cell_type": "code",
   "execution_count": 3,
   "metadata": {},
   "outputs": [
    {
     "name": "stdout",
     "output_type": "stream",
     "text": [
      "(12721, 3) (12721, 3) (12721, 5)\n"
     ]
    }
   ],
   "source": [
    "test_agent = pd.read_csv(\"Data/Koc_Yaz_Okulu_Data_Test_Agent.txt\", sep =\";\")\n",
    "test_cust  = pd.read_csv(\"Data/Koc_Yaz_Okulu_Data_Test_Cust.txt\",  sep =\";\")\n",
    "\n",
    "test_cust[\"LIST_TXT\"]  = test_cust[\"CUST_TXT\"].apply(lambda x: x.split(\" \"))\n",
    "test_agent[\"LIST_TXT\"] = test_agent[\"AGENT_TXT\"].apply(lambda x: x.split(\" \"))\n",
    "\n",
    "test = pd.merge(test_agent, test_cust, how=\"inner\", on=[\"ID\"], suffixes=[\"_agent\", \"_cust\"])\n",
    "print(test_agent.shape, test_cust.shape, test.shape)"
   ]
  },
  {
   "cell_type": "markdown",
   "metadata": {},
   "source": [
    "# Split Data and create TF-IDF"
   ]
  },
  {
   "cell_type": "code",
   "execution_count": 4,
   "metadata": {},
   "outputs": [],
   "source": [
    "# Split Train Test\n",
    "train, valid = train_test_split(df, random_state=21, test_size=0.30, shuffle=True)\n",
    "\n",
    "\n",
    "# TFIDF\n",
    "'''\n",
    "\n",
    "vectorizer = TfidfVectorizer(strip_accents='unicode',\n",
    "                             analyzer='word',\n",
    "                             ngram_range=(1,3),\n",
    "                             norm='l2',\n",
    "                             lowercase=False,\n",
    "                             max_df = 0.5)\n",
    "\n",
    "'''\n",
    "\n",
    "vectorizer = TfidfVectorizer(ngram_range=(1,2), lowercase=False,\n",
    "               min_df=3, max_df=0.5, strip_accents='unicode', use_idf=1,\n",
    "               smooth_idf=1, sublinear_tf=1 )\n",
    "\n",
    "\n",
    "train_text      = train[\"AGENT_TXT\"] + \" \" + train[\"CUST_TXT\"]\n",
    "valid_text      = valid[\"AGENT_TXT\"] + \" \" + valid[\"CUST_TXT\"]\n",
    "test_cust_text  = test[\"CUST_TXT\"]\n",
    "test_agent_text = test[\"AGENT_TXT\"]\n",
    "drop_cols       = [\"ID\", \"AGENT_TXT\", \"LIST_TXT_agent\", \"CUST_TXT\", \"LIST_TXT_cust\"]\n",
    "\n",
    "vectorizer.fit(train_text)\n",
    "\n",
    "train_term_doc      = vectorizer.transform(train_text)\n",
    "valid_term_doc      = vectorizer.transform(valid_text)\n",
    "test_term_agent_doc = vectorizer.transform(test_agent_text)\n",
    "test_term_cust_doc  = vectorizer.transform(test_cust_text)\n",
    "\n",
    "y_train = train.drop(labels = drop_cols, axis=1)\n",
    "y_valid = valid.drop(labels = drop_cols, axis=1)"
   ]
  },
  {
   "cell_type": "markdown",
   "metadata": {},
   "source": [
    "# Train SVM with TF-IDF Features"
   ]
  },
  {
   "cell_type": "code",
   "execution_count": 5,
   "metadata": {
    "scrolled": true
   },
   "outputs": [
    {
     "name": "stdout",
     "output_type": "stream",
     "text": [
      "**Processing LABEL_1 ...**\n",
      "LABEL_1\n",
      "Train accuracy is 0.9969285714285714\n",
      "LABEL_1\n",
      "Valid accuracy is 0.9294166666666667\n",
      "\n",
      "\n",
      "**Processing LABEL_2 ...**\n",
      "LABEL_2\n",
      "Train accuracy is 0.9907142857142858\n",
      "LABEL_2\n",
      "Valid accuracy is 0.8525\n",
      "\n",
      "\n",
      "**Processing LABEL_3 ...**\n",
      "LABEL_3\n",
      "Train accuracy is 0.9952142857142857\n",
      "LABEL_3\n",
      "Valid accuracy is 0.9229166666666667\n",
      "\n",
      "\n",
      "**Processing LABEL_4 ...**\n",
      "LABEL_4\n",
      "Train accuracy is 0.9965\n",
      "LABEL_4\n",
      "Valid accuracy is 0.9444166666666667\n",
      "\n",
      "\n",
      "**Processing LABEL_5 ...**\n",
      "LABEL_5\n",
      "Train accuracy is 0.9977142857142857\n",
      "LABEL_5\n",
      "Valid accuracy is 0.9605\n",
      "\n",
      "\n",
      "**Processing LABEL_6 ...**\n",
      "LABEL_6\n",
      "Train accuracy is 0.99975\n",
      "LABEL_6\n",
      "Valid accuracy is 0.97025\n",
      "\n",
      "\n",
      "**Processing LABEL_7 ...**\n",
      "LABEL_7\n",
      "Train accuracy is 0.99575\n",
      "LABEL_7\n",
      "Valid accuracy is 0.9425\n",
      "\n",
      "\n",
      "**Processing LABEL_8 ...**\n",
      "LABEL_8\n",
      "Train accuracy is 0.9971428571428571\n",
      "LABEL_8\n",
      "Valid accuracy is 0.9511666666666667\n",
      "\n",
      "\n",
      "**Processing LABEL_9 ...**\n",
      "LABEL_9\n",
      "Train accuracy is 0.9972142857142857\n",
      "LABEL_9\n",
      "Valid accuracy is 0.9451666666666667\n",
      "\n",
      "\n",
      "**Processing LABEL_10 ...**\n",
      "LABEL_10\n",
      "Train accuracy is 0.9913571428571428\n",
      "LABEL_10\n",
      "Valid accuracy is 0.8920833333333333\n",
      "\n",
      "\n",
      "**Processing LABEL_11 ...**\n",
      "LABEL_11\n",
      "Train accuracy is 0.99975\n",
      "LABEL_11\n",
      "Valid accuracy is 0.9795833333333334\n",
      "\n",
      "\n",
      "**Processing LABEL_12 ...**\n",
      "LABEL_12\n",
      "Train accuracy is 0.998\n",
      "LABEL_12\n",
      "Valid accuracy is 0.9644166666666667\n",
      "\n",
      "\n",
      "**Processing LABEL_13 ...**\n",
      "LABEL_13\n",
      "Train accuracy is 0.9958928571428571\n",
      "LABEL_13\n",
      "Valid accuracy is 0.9379166666666666\n",
      "\n",
      "\n",
      "**Processing LABEL_14 ...**\n",
      "LABEL_14\n",
      "Train accuracy is 0.99475\n",
      "LABEL_14\n",
      "Valid accuracy is 0.9445\n",
      "\n",
      "\n",
      "**Processing LABEL_15 ...**\n",
      "LABEL_15\n",
      "Train accuracy is 0.9994642857142857\n",
      "LABEL_15\n",
      "Valid accuracy is 0.9848333333333333\n",
      "\n",
      "\n",
      "**Processing LABEL_16 ...**\n",
      "LABEL_16\n",
      "Train accuracy is 1.0\n",
      "LABEL_16\n",
      "Valid accuracy is 0.9848333333333333\n",
      "\n",
      "\n",
      "**Processing LABEL_17 ...**\n",
      "LABEL_17\n",
      "Train accuracy is 0.9928928571428571\n",
      "LABEL_17\n",
      "Valid accuracy is 0.91625\n",
      "\n",
      "\n",
      "**Processing LABEL_18 ...**\n",
      "LABEL_18\n",
      "Train accuracy is 0.9960357142857142\n",
      "LABEL_18\n",
      "Valid accuracy is 0.9335\n",
      "\n",
      "\n",
      "**Processing LABEL_19 ...**\n",
      "LABEL_19\n",
      "Train accuracy is 0.9998214285714285\n",
      "LABEL_19\n",
      "Valid accuracy is 0.97325\n",
      "\n",
      "\n",
      "**Processing LABEL_20 ...**\n",
      "LABEL_20\n",
      "Train accuracy is 0.9991071428571429\n",
      "LABEL_20\n",
      "Valid accuracy is 0.9614166666666667\n",
      "\n",
      "\n",
      "**Processing LABEL_21 ...**\n",
      "LABEL_21\n",
      "Train accuracy is 0.9998214285714285\n",
      "LABEL_21\n",
      "Valid accuracy is 0.9820833333333333\n",
      "\n",
      "\n",
      "**Processing LABEL_22 ...**\n",
      "LABEL_22\n",
      "Train accuracy is 0.9985\n",
      "LABEL_22\n",
      "Valid accuracy is 0.956\n",
      "\n",
      "\n",
      "**Processing LABEL_23 ...**\n",
      "LABEL_23\n",
      "Train accuracy is 0.9995\n",
      "LABEL_23\n",
      "Valid accuracy is 0.9799166666666667\n",
      "\n",
      "\n",
      "**Processing LABEL_24 ...**\n",
      "LABEL_24\n",
      "Train accuracy is 0.9999642857142857\n",
      "LABEL_24\n",
      "Valid accuracy is 0.9913333333333333\n",
      "\n",
      "\n",
      "**Processing LABEL_25 ...**\n",
      "LABEL_25\n",
      "Train accuracy is 0.9983571428571428\n",
      "LABEL_25\n",
      "Valid accuracy is 0.9735\n",
      "\n",
      "\n",
      "**Processing LABEL_26 ...**\n",
      "LABEL_26\n",
      "Train accuracy is 0.9991785714285715\n",
      "LABEL_26\n",
      "Valid accuracy is 0.9738333333333333\n",
      "\n",
      "\n",
      "**Processing LABEL_27 ...**\n",
      "LABEL_27\n",
      "Train accuracy is 0.9999642857142857\n",
      "LABEL_27\n",
      "Valid accuracy is 0.9885833333333334\n",
      "\n",
      "\n",
      "**Processing LABEL_28 ...**\n",
      "LABEL_28\n",
      "Train accuracy is 0.9998571428571429\n",
      "LABEL_28\n",
      "Valid accuracy is 0.9840833333333333\n",
      "\n",
      "\n",
      "**Processing LABEL_29 ...**\n",
      "LABEL_29\n",
      "Train accuracy is 1.0\n",
      "LABEL_29\n",
      "Valid accuracy is 0.9948333333333333\n",
      "\n",
      "\n",
      "**Processing LABEL_30 ...**\n",
      "LABEL_30\n",
      "Train accuracy is 0.9994285714285714\n",
      "LABEL_30\n",
      "Valid accuracy is 0.9735833333333334\n",
      "\n",
      "\n",
      "**Processing LABEL_31 ...**\n",
      "LABEL_31\n",
      "Train accuracy is 0.9998571428571429\n",
      "LABEL_31\n",
      "Valid accuracy is 0.987\n",
      "\n",
      "\n",
      "**Processing LABEL_32 ...**\n",
      "LABEL_32\n",
      "Train accuracy is 0.9990357142857142\n",
      "LABEL_32\n",
      "Valid accuracy is 0.9735833333333334\n",
      "\n",
      "\n",
      "**Processing LABEL_33 ...**\n",
      "LABEL_33\n",
      "Train accuracy is 1.0\n",
      "LABEL_33\n",
      "Valid accuracy is 0.9925833333333334\n",
      "\n",
      "\n",
      "**Processing LABEL_34 ...**\n",
      "LABEL_34\n",
      "Train accuracy is 0.9999642857142857\n",
      "LABEL_34\n",
      "Valid accuracy is 0.9879166666666667\n",
      "\n",
      "\n",
      "**Processing LABEL_35 ...**\n",
      "LABEL_35\n",
      "Train accuracy is 0.9998214285714285\n",
      "LABEL_35\n",
      "Valid accuracy is 0.9819166666666667\n",
      "\n",
      "\n",
      "**Processing LABEL_36 ...**\n",
      "LABEL_36\n",
      "Train accuracy is 0.9995714285714286\n",
      "LABEL_36\n",
      "Valid accuracy is 0.97875\n",
      "\n",
      "\n",
      "**Processing LABEL_37 ...**\n",
      "LABEL_37\n",
      "Train accuracy is 0.9999285714285714\n",
      "LABEL_37\n",
      "Valid accuracy is 0.9949166666666667\n",
      "\n",
      "\n",
      "**Processing LABEL_38 ...**\n",
      "LABEL_38\n",
      "Train accuracy is 0.9983214285714286\n",
      "LABEL_38\n",
      "Valid accuracy is 0.9698333333333333\n",
      "\n",
      "\n",
      "**Processing LABEL_39 ...**\n",
      "LABEL_39\n",
      "Train accuracy is 0.9998571428571429\n",
      "LABEL_39\n",
      "Valid accuracy is 0.9870833333333333\n",
      "\n",
      "\n",
      "**Processing LABEL_40 ...**\n",
      "LABEL_40\n",
      "Train accuracy is 0.9999285714285714\n",
      "LABEL_40\n",
      "Valid accuracy is 0.9918333333333333\n",
      "\n",
      "\n",
      "**Processing LABEL_41 ...**\n",
      "LABEL_41\n",
      "Train accuracy is 0.9999642857142857\n",
      "LABEL_41\n",
      "Valid accuracy is 0.9926666666666667\n",
      "\n",
      "\n",
      "**Processing LABEL_42 ...**\n",
      "LABEL_42\n",
      "Train accuracy is 0.9999642857142857\n",
      "LABEL_42\n",
      "Valid accuracy is 0.995\n",
      "\n",
      "\n",
      "**Processing LABEL_43 ...**\n",
      "LABEL_43\n",
      "Train accuracy is 0.9999642857142857\n",
      "LABEL_43\n",
      "Valid accuracy is 0.9976666666666667\n",
      "\n",
      "\n",
      "**Processing LABEL_44 ...**\n",
      "LABEL_44\n",
      "Train accuracy is 1.0\n",
      "LABEL_44\n",
      "Valid accuracy is 0.996\n",
      "\n",
      "\n",
      "**Processing LABEL_45 ...**\n",
      "LABEL_45\n",
      "Train accuracy is 0.9999285714285714\n",
      "LABEL_45\n",
      "Valid accuracy is 0.9883333333333333\n",
      "\n",
      "\n",
      "**Processing LABEL_46 ...**\n",
      "LABEL_46\n",
      "Train accuracy is 1.0\n",
      "LABEL_46\n",
      "Valid accuracy is 0.9963333333333333\n",
      "\n",
      "\n",
      "**Processing LABEL_47 ...**\n",
      "LABEL_47\n",
      "Train accuracy is 1.0\n",
      "LABEL_47\n",
      "Valid accuracy is 0.9969166666666667\n",
      "\n",
      "\n",
      "**Processing LABEL_48 ...**\n",
      "LABEL_48\n",
      "Train accuracy is 1.0\n",
      "LABEL_48\n",
      "Valid accuracy is 0.9983333333333333\n",
      "\n",
      "\n",
      "**Processing LABEL_49 ...**\n",
      "LABEL_49\n",
      "Train accuracy is 1.0\n",
      "LABEL_49\n",
      "Valid accuracy is 0.997\n",
      "\n",
      "\n",
      "**Processing LABEL_50 ...**\n",
      "LABEL_50\n",
      "Train accuracy is 1.0\n",
      "LABEL_50\n",
      "Valid accuracy is 0.9925833333333334\n",
      "\n",
      "\n",
      "**Processing LABEL_51 ...**\n",
      "LABEL_51\n",
      "Train accuracy is 1.0\n",
      "LABEL_51\n",
      "Valid accuracy is 0.9988333333333334\n",
      "\n",
      "\n",
      "**Processing LABEL_52 ...**\n",
      "LABEL_52\n",
      "Train accuracy is 1.0\n",
      "LABEL_52\n",
      "Valid accuracy is 0.999\n",
      "\n",
      "\n",
      "**Processing LABEL_53 ...**\n",
      "LABEL_53\n",
      "Train accuracy is 1.0\n",
      "LABEL_53\n",
      "Valid accuracy is 0.99825\n",
      "\n",
      "\n",
      "**Processing LABEL_54 ...**\n",
      "LABEL_54\n",
      "Train accuracy is 1.0\n",
      "LABEL_54\n",
      "Valid accuracy is 0.9971666666666666\n",
      "\n",
      "\n",
      "**Processing LABEL_55 ...**\n",
      "LABEL_55\n",
      "Train accuracy is 1.0\n",
      "LABEL_55\n",
      "Valid accuracy is 0.9975833333333334\n",
      "\n",
      "\n",
      "**Processing LABEL_56 ...**\n",
      "LABEL_56\n",
      "Train accuracy is 1.0\n",
      "LABEL_56\n",
      "Valid accuracy is 0.9991666666666666\n",
      "\n",
      "\n"
     ]
    }
   ],
   "source": [
    "# Using pipeline for applying SVM and one vs rest classifier\n",
    "LogSVM_pipeline = Pipeline([\n",
    "                ('clf', OneVsRestClassifier(LinearSVC(max_iter=3000), n_jobs=-1)),\n",
    "            ])\n",
    "\n",
    "\n",
    "data_trains = [train_term_doc]\n",
    "data_valids = [valid_term_doc]\n",
    "models      = [LogSVM_pipeline]\n",
    "\n",
    "submission_cust  = pd.DataFrame()\n",
    "submission_agent = pd.DataFrame()\n",
    "\n",
    "for category in label_cols:\n",
    "    print('**Processing {} ...**'.format(category))\n",
    "    for data_train, data_valid in zip(data_trains, data_valids):\n",
    "        for model in models:\n",
    "            model.fit(data_train, train[category])\n",
    "            \n",
    "            # Train Predict\n",
    "            prediction = model.predict(data_train)\n",
    "            accuracy   = accuracy_score(train[category], prediction)\n",
    "            \n",
    "            print(category)\n",
    "            print('Train accuracy is {}'.format(accuracy))\n",
    "            \n",
    "            # Valid Predict\n",
    "            prediction = model.predict(data_valid)\n",
    "            accuracy   = accuracy_score(valid[category], prediction)\n",
    "            \n",
    "            print(category)\n",
    "            print('Valid accuracy is {}'.format(accuracy))\n",
    "            \n",
    "            # Test Predict Cust\n",
    "            prediction                = model.predict(test_term_cust_doc)\n",
    "            submission_cust[category] = prediction    \n",
    "            # Test Predict Agent\n",
    "            prediction                 = model.predict(test_term_agent_doc)\n",
    "            submission_agent[category] = prediction    \n",
    "    print(\"\\n\")\n",
    "    \n",
    "submission_agent.to_csv(\"Results/agent_tfidf_svm.csv\", index=False)\n",
    "submission_cust.to_csv(\"Results/cust_tfidf_svm.csv\", index=False)"
   ]
  },
  {
   "cell_type": "code",
   "execution_count": 6,
   "metadata": {
    "scrolled": true
   },
   "outputs": [
    {
     "name": "stdout",
     "output_type": "stream",
     "text": [
      "fit LABEL_1\n"
     ]
    },
    {
     "name": "stderr",
     "output_type": "stream",
     "text": [
      "/home/mustafa/anaconda3/lib/python3.6/site-packages/sklearn/linear_model/logistic.py:432: FutureWarning:\n",
      "\n",
      "Default solver will be changed to 'lbfgs' in 0.22. Specify a solver to silence this warning.\n",
      "\n",
      "/home/mustafa/anaconda3/lib/python3.6/site-packages/sklearn/linear_model/logistic.py:1544: UserWarning:\n",
      "\n",
      "'n_jobs' > 1 does not have any effect when 'solver' is set to 'liblinear'. Got 'n_jobs' = 12.\n",
      "\n"
     ]
    },
    {
     "name": "stdout",
     "output_type": "stream",
     "text": [
      "Train accuracy is 0.9437857142857143\n",
      "Valid accuracy is 0.9280833333333334\n",
      "fit LABEL_2\n"
     ]
    },
    {
     "name": "stderr",
     "output_type": "stream",
     "text": [
      "/home/mustafa/anaconda3/lib/python3.6/site-packages/sklearn/linear_model/logistic.py:1544: UserWarning:\n",
      "\n",
      "'n_jobs' > 1 does not have any effect when 'solver' is set to 'liblinear'. Got 'n_jobs' = 12.\n",
      "\n"
     ]
    },
    {
     "name": "stdout",
     "output_type": "stream",
     "text": [
      "Train accuracy is 0.8764285714285714\n",
      "Valid accuracy is 0.8640833333333333\n",
      "fit LABEL_3\n"
     ]
    },
    {
     "name": "stderr",
     "output_type": "stream",
     "text": [
      "/home/mustafa/anaconda3/lib/python3.6/site-packages/sklearn/linear_model/logistic.py:1544: UserWarning:\n",
      "\n",
      "'n_jobs' > 1 does not have any effect when 'solver' is set to 'liblinear'. Got 'n_jobs' = 12.\n",
      "\n"
     ]
    },
    {
     "name": "stdout",
     "output_type": "stream",
     "text": [
      "Train accuracy is 0.9334285714285714\n",
      "Valid accuracy is 0.9208333333333333\n",
      "fit LABEL_4\n"
     ]
    },
    {
     "name": "stderr",
     "output_type": "stream",
     "text": [
      "/home/mustafa/anaconda3/lib/python3.6/site-packages/sklearn/linear_model/logistic.py:1544: UserWarning:\n",
      "\n",
      "'n_jobs' > 1 does not have any effect when 'solver' is set to 'liblinear'. Got 'n_jobs' = 12.\n",
      "\n"
     ]
    },
    {
     "name": "stdout",
     "output_type": "stream",
     "text": [
      "Train accuracy is 0.9499285714285715\n",
      "Valid accuracy is 0.9431666666666667\n",
      "fit LABEL_5\n"
     ]
    },
    {
     "name": "stderr",
     "output_type": "stream",
     "text": [
      "/home/mustafa/anaconda3/lib/python3.6/site-packages/sklearn/linear_model/logistic.py:1544: UserWarning:\n",
      "\n",
      "'n_jobs' > 1 does not have any effect when 'solver' is set to 'liblinear'. Got 'n_jobs' = 12.\n",
      "\n"
     ]
    },
    {
     "name": "stdout",
     "output_type": "stream",
     "text": [
      "Train accuracy is 0.9690714285714286\n",
      "Valid accuracy is 0.95875\n",
      "fit LABEL_6\n"
     ]
    },
    {
     "name": "stderr",
     "output_type": "stream",
     "text": [
      "/home/mustafa/anaconda3/lib/python3.6/site-packages/sklearn/linear_model/logistic.py:1544: UserWarning:\n",
      "\n",
      "'n_jobs' > 1 does not have any effect when 'solver' is set to 'liblinear'. Got 'n_jobs' = 12.\n",
      "\n"
     ]
    },
    {
     "name": "stdout",
     "output_type": "stream",
     "text": [
      "Train accuracy is 0.9788928571428571\n",
      "Valid accuracy is 0.9685\n",
      "fit LABEL_7\n"
     ]
    },
    {
     "name": "stderr",
     "output_type": "stream",
     "text": [
      "/home/mustafa/anaconda3/lib/python3.6/site-packages/sklearn/linear_model/logistic.py:1544: UserWarning:\n",
      "\n",
      "'n_jobs' > 1 does not have any effect when 'solver' is set to 'liblinear'. Got 'n_jobs' = 12.\n",
      "\n"
     ]
    },
    {
     "name": "stdout",
     "output_type": "stream",
     "text": [
      "Train accuracy is 0.95125\n",
      "Valid accuracy is 0.94325\n",
      "fit LABEL_8\n"
     ]
    },
    {
     "name": "stderr",
     "output_type": "stream",
     "text": [
      "/home/mustafa/anaconda3/lib/python3.6/site-packages/sklearn/linear_model/logistic.py:1544: UserWarning:\n",
      "\n",
      "'n_jobs' > 1 does not have any effect when 'solver' is set to 'liblinear'. Got 'n_jobs' = 12.\n",
      "\n"
     ]
    },
    {
     "name": "stdout",
     "output_type": "stream",
     "text": [
      "Train accuracy is 0.9635357142857143\n",
      "Valid accuracy is 0.9485833333333333\n",
      "fit LABEL_9\n"
     ]
    },
    {
     "name": "stderr",
     "output_type": "stream",
     "text": [
      "/home/mustafa/anaconda3/lib/python3.6/site-packages/sklearn/linear_model/logistic.py:1544: UserWarning:\n",
      "\n",
      "'n_jobs' > 1 does not have any effect when 'solver' is set to 'liblinear'. Got 'n_jobs' = 12.\n",
      "\n"
     ]
    },
    {
     "name": "stdout",
     "output_type": "stream",
     "text": [
      "Train accuracy is 0.9591785714285714\n",
      "Valid accuracy is 0.9445833333333333\n",
      "fit LABEL_10\n"
     ]
    },
    {
     "name": "stderr",
     "output_type": "stream",
     "text": [
      "/home/mustafa/anaconda3/lib/python3.6/site-packages/sklearn/linear_model/logistic.py:1544: UserWarning:\n",
      "\n",
      "'n_jobs' > 1 does not have any effect when 'solver' is set to 'liblinear'. Got 'n_jobs' = 12.\n",
      "\n"
     ]
    },
    {
     "name": "stdout",
     "output_type": "stream",
     "text": [
      "Train accuracy is 0.9032857142857142\n",
      "Valid accuracy is 0.8879166666666667\n",
      "fit LABEL_11\n"
     ]
    },
    {
     "name": "stderr",
     "output_type": "stream",
     "text": [
      "/home/mustafa/anaconda3/lib/python3.6/site-packages/sklearn/linear_model/logistic.py:1544: UserWarning:\n",
      "\n",
      "'n_jobs' > 1 does not have any effect when 'solver' is set to 'liblinear'. Got 'n_jobs' = 12.\n",
      "\n"
     ]
    },
    {
     "name": "stdout",
     "output_type": "stream",
     "text": [
      "Train accuracy is 0.9878214285714285\n",
      "Valid accuracy is 0.9765833333333334\n",
      "fit LABEL_12\n"
     ]
    },
    {
     "name": "stderr",
     "output_type": "stream",
     "text": [
      "/home/mustafa/anaconda3/lib/python3.6/site-packages/sklearn/linear_model/logistic.py:1544: UserWarning:\n",
      "\n",
      "'n_jobs' > 1 does not have any effect when 'solver' is set to 'liblinear'. Got 'n_jobs' = 12.\n",
      "\n"
     ]
    },
    {
     "name": "stdout",
     "output_type": "stream",
     "text": [
      "Train accuracy is 0.9685357142857143\n",
      "Valid accuracy is 0.9638333333333333\n",
      "fit LABEL_13\n"
     ]
    },
    {
     "name": "stderr",
     "output_type": "stream",
     "text": [
      "/home/mustafa/anaconda3/lib/python3.6/site-packages/sklearn/linear_model/logistic.py:1544: UserWarning:\n",
      "\n",
      "'n_jobs' > 1 does not have any effect when 'solver' is set to 'liblinear'. Got 'n_jobs' = 12.\n",
      "\n"
     ]
    },
    {
     "name": "stdout",
     "output_type": "stream",
     "text": [
      "Train accuracy is 0.9481785714285714\n",
      "Valid accuracy is 0.9349166666666666\n",
      "fit LABEL_14\n"
     ]
    },
    {
     "name": "stderr",
     "output_type": "stream",
     "text": [
      "/home/mustafa/anaconda3/lib/python3.6/site-packages/sklearn/linear_model/logistic.py:1544: UserWarning:\n",
      "\n",
      "'n_jobs' > 1 does not have any effect when 'solver' is set to 'liblinear'. Got 'n_jobs' = 12.\n",
      "\n"
     ]
    },
    {
     "name": "stdout",
     "output_type": "stream",
     "text": [
      "Train accuracy is 0.9508928571428571\n",
      "Valid accuracy is 0.9424166666666667\n",
      "fit LABEL_15\n"
     ]
    },
    {
     "name": "stderr",
     "output_type": "stream",
     "text": [
      "/home/mustafa/anaconda3/lib/python3.6/site-packages/sklearn/linear_model/logistic.py:1544: UserWarning:\n",
      "\n",
      "'n_jobs' > 1 does not have any effect when 'solver' is set to 'liblinear'. Got 'n_jobs' = 12.\n",
      "\n"
     ]
    },
    {
     "name": "stdout",
     "output_type": "stream",
     "text": [
      "Train accuracy is 0.9875\n",
      "Valid accuracy is 0.9851666666666666\n",
      "fit LABEL_16\n"
     ]
    },
    {
     "name": "stderr",
     "output_type": "stream",
     "text": [
      "/home/mustafa/anaconda3/lib/python3.6/site-packages/sklearn/linear_model/logistic.py:1544: UserWarning:\n",
      "\n",
      "'n_jobs' > 1 does not have any effect when 'solver' is set to 'liblinear'. Got 'n_jobs' = 12.\n",
      "\n"
     ]
    },
    {
     "name": "stdout",
     "output_type": "stream",
     "text": [
      "Train accuracy is 0.9917857142857143\n",
      "Valid accuracy is 0.9841666666666666\n",
      "fit LABEL_17\n"
     ]
    },
    {
     "name": "stderr",
     "output_type": "stream",
     "text": [
      "/home/mustafa/anaconda3/lib/python3.6/site-packages/sklearn/linear_model/logistic.py:1544: UserWarning:\n",
      "\n",
      "'n_jobs' > 1 does not have any effect when 'solver' is set to 'liblinear'. Got 'n_jobs' = 12.\n",
      "\n"
     ]
    },
    {
     "name": "stdout",
     "output_type": "stream",
     "text": [
      "Train accuracy is 0.9253571428571429\n",
      "Valid accuracy is 0.917\n",
      "fit LABEL_18\n"
     ]
    },
    {
     "name": "stderr",
     "output_type": "stream",
     "text": [
      "/home/mustafa/anaconda3/lib/python3.6/site-packages/sklearn/linear_model/logistic.py:1544: UserWarning:\n",
      "\n",
      "'n_jobs' > 1 does not have any effect when 'solver' is set to 'liblinear'. Got 'n_jobs' = 12.\n",
      "\n"
     ]
    },
    {
     "name": "stdout",
     "output_type": "stream",
     "text": [
      "Train accuracy is 0.9439285714285715\n",
      "Valid accuracy is 0.93125\n",
      "fit LABEL_19\n"
     ]
    },
    {
     "name": "stderr",
     "output_type": "stream",
     "text": [
      "/home/mustafa/anaconda3/lib/python3.6/site-packages/sklearn/linear_model/logistic.py:1544: UserWarning:\n",
      "\n",
      "'n_jobs' > 1 does not have any effect when 'solver' is set to 'liblinear'. Got 'n_jobs' = 12.\n",
      "\n"
     ]
    },
    {
     "name": "stdout",
     "output_type": "stream",
     "text": [
      "Train accuracy is 0.9843214285714286\n",
      "Valid accuracy is 0.9698333333333333\n",
      "fit LABEL_20\n"
     ]
    },
    {
     "name": "stderr",
     "output_type": "stream",
     "text": [
      "/home/mustafa/anaconda3/lib/python3.6/site-packages/sklearn/linear_model/logistic.py:1544: UserWarning:\n",
      "\n",
      "'n_jobs' > 1 does not have any effect when 'solver' is set to 'liblinear'. Got 'n_jobs' = 12.\n",
      "\n"
     ]
    },
    {
     "name": "stdout",
     "output_type": "stream",
     "text": [
      "Train accuracy is 0.9723928571428572\n",
      "Valid accuracy is 0.9585\n",
      "fit LABEL_21\n"
     ]
    },
    {
     "name": "stderr",
     "output_type": "stream",
     "text": [
      "/home/mustafa/anaconda3/lib/python3.6/site-packages/sklearn/linear_model/logistic.py:1544: UserWarning:\n",
      "\n",
      "'n_jobs' > 1 does not have any effect when 'solver' is set to 'liblinear'. Got 'n_jobs' = 12.\n",
      "\n"
     ]
    },
    {
     "name": "stdout",
     "output_type": "stream",
     "text": [
      "Train accuracy is 0.9906785714285714\n",
      "Valid accuracy is 0.9799166666666667\n",
      "fit LABEL_22\n"
     ]
    },
    {
     "name": "stderr",
     "output_type": "stream",
     "text": [
      "/home/mustafa/anaconda3/lib/python3.6/site-packages/sklearn/linear_model/logistic.py:1544: UserWarning:\n",
      "\n",
      "'n_jobs' > 1 does not have any effect when 'solver' is set to 'liblinear'. Got 'n_jobs' = 12.\n",
      "\n"
     ]
    },
    {
     "name": "stdout",
     "output_type": "stream",
     "text": [
      "Train accuracy is 0.9690357142857143\n",
      "Valid accuracy is 0.95475\n",
      "fit LABEL_23\n"
     ]
    },
    {
     "name": "stderr",
     "output_type": "stream",
     "text": [
      "/home/mustafa/anaconda3/lib/python3.6/site-packages/sklearn/linear_model/logistic.py:1544: UserWarning:\n",
      "\n",
      "'n_jobs' > 1 does not have any effect when 'solver' is set to 'liblinear'. Got 'n_jobs' = 12.\n",
      "\n"
     ]
    },
    {
     "name": "stdout",
     "output_type": "stream",
     "text": [
      "Train accuracy is 0.9851428571428571\n",
      "Valid accuracy is 0.9784166666666667\n",
      "fit LABEL_24\n"
     ]
    },
    {
     "name": "stderr",
     "output_type": "stream",
     "text": [
      "/home/mustafa/anaconda3/lib/python3.6/site-packages/sklearn/linear_model/logistic.py:1544: UserWarning:\n",
      "\n",
      "'n_jobs' > 1 does not have any effect when 'solver' is set to 'liblinear'. Got 'n_jobs' = 12.\n",
      "\n"
     ]
    },
    {
     "name": "stdout",
     "output_type": "stream",
     "text": [
      "Train accuracy is 0.9956428571428572\n",
      "Valid accuracy is 0.9906666666666667\n",
      "fit LABEL_25\n"
     ]
    },
    {
     "name": "stderr",
     "output_type": "stream",
     "text": [
      "/home/mustafa/anaconda3/lib/python3.6/site-packages/sklearn/linear_model/logistic.py:1544: UserWarning:\n",
      "\n",
      "'n_jobs' > 1 does not have any effect when 'solver' is set to 'liblinear'. Got 'n_jobs' = 12.\n",
      "\n"
     ]
    },
    {
     "name": "stdout",
     "output_type": "stream",
     "text": [
      "Train accuracy is 0.9761428571428571\n",
      "Valid accuracy is 0.9724166666666667\n",
      "fit LABEL_26\n"
     ]
    },
    {
     "name": "stderr",
     "output_type": "stream",
     "text": [
      "/home/mustafa/anaconda3/lib/python3.6/site-packages/sklearn/linear_model/logistic.py:1544: UserWarning:\n",
      "\n",
      "'n_jobs' > 1 does not have any effect when 'solver' is set to 'liblinear'. Got 'n_jobs' = 12.\n",
      "\n"
     ]
    },
    {
     "name": "stdout",
     "output_type": "stream",
     "text": [
      "Train accuracy is 0.9810714285714286\n",
      "Valid accuracy is 0.9723333333333334\n",
      "fit LABEL_27\n"
     ]
    },
    {
     "name": "stderr",
     "output_type": "stream",
     "text": [
      "/home/mustafa/anaconda3/lib/python3.6/site-packages/sklearn/linear_model/logistic.py:1544: UserWarning:\n",
      "\n",
      "'n_jobs' > 1 does not have any effect when 'solver' is set to 'liblinear'. Got 'n_jobs' = 12.\n",
      "\n"
     ]
    },
    {
     "name": "stdout",
     "output_type": "stream",
     "text": [
      "Train accuracy is 0.9955714285714286\n",
      "Valid accuracy is 0.9884166666666667\n",
      "fit LABEL_28\n"
     ]
    },
    {
     "name": "stderr",
     "output_type": "stream",
     "text": [
      "/home/mustafa/anaconda3/lib/python3.6/site-packages/sklearn/linear_model/logistic.py:1544: UserWarning:\n",
      "\n",
      "'n_jobs' > 1 does not have any effect when 'solver' is set to 'liblinear'. Got 'n_jobs' = 12.\n",
      "\n"
     ]
    },
    {
     "name": "stdout",
     "output_type": "stream",
     "text": [
      "Train accuracy is 0.9899642857142857\n",
      "Valid accuracy is 0.9831666666666666\n",
      "fit LABEL_29\n"
     ]
    },
    {
     "name": "stderr",
     "output_type": "stream",
     "text": [
      "/home/mustafa/anaconda3/lib/python3.6/site-packages/sklearn/linear_model/logistic.py:1544: UserWarning:\n",
      "\n",
      "'n_jobs' > 1 does not have any effect when 'solver' is set to 'liblinear'. Got 'n_jobs' = 12.\n",
      "\n"
     ]
    },
    {
     "name": "stdout",
     "output_type": "stream",
     "text": [
      "Train accuracy is 0.9950714285714286\n",
      "Valid accuracy is 0.9941666666666666\n",
      "fit LABEL_30\n"
     ]
    },
    {
     "name": "stderr",
     "output_type": "stream",
     "text": [
      "/home/mustafa/anaconda3/lib/python3.6/site-packages/sklearn/linear_model/logistic.py:1544: UserWarning:\n",
      "\n",
      "'n_jobs' > 1 does not have any effect when 'solver' is set to 'liblinear'. Got 'n_jobs' = 12.\n",
      "\n"
     ]
    },
    {
     "name": "stdout",
     "output_type": "stream",
     "text": [
      "Train accuracy is 0.9817857142857143\n",
      "Valid accuracy is 0.9709166666666667\n",
      "fit LABEL_31\n"
     ]
    },
    {
     "name": "stderr",
     "output_type": "stream",
     "text": [
      "/home/mustafa/anaconda3/lib/python3.6/site-packages/sklearn/linear_model/logistic.py:1544: UserWarning:\n",
      "\n",
      "'n_jobs' > 1 does not have any effect when 'solver' is set to 'liblinear'. Got 'n_jobs' = 12.\n",
      "\n"
     ]
    },
    {
     "name": "stdout",
     "output_type": "stream",
     "text": [
      "Train accuracy is 0.9914642857142857\n",
      "Valid accuracy is 0.9863333333333333\n",
      "fit LABEL_32\n"
     ]
    },
    {
     "name": "stderr",
     "output_type": "stream",
     "text": [
      "/home/mustafa/anaconda3/lib/python3.6/site-packages/sklearn/linear_model/logistic.py:1544: UserWarning:\n",
      "\n",
      "'n_jobs' > 1 does not have any effect when 'solver' is set to 'liblinear'. Got 'n_jobs' = 12.\n",
      "\n"
     ]
    },
    {
     "name": "stdout",
     "output_type": "stream",
     "text": [
      "Train accuracy is 0.9824285714285714\n",
      "Valid accuracy is 0.9731666666666666\n",
      "fit LABEL_33\n"
     ]
    },
    {
     "name": "stderr",
     "output_type": "stream",
     "text": [
      "/home/mustafa/anaconda3/lib/python3.6/site-packages/sklearn/linear_model/logistic.py:1544: UserWarning:\n",
      "\n",
      "'n_jobs' > 1 does not have any effect when 'solver' is set to 'liblinear'. Got 'n_jobs' = 12.\n",
      "\n"
     ]
    },
    {
     "name": "stdout",
     "output_type": "stream",
     "text": [
      "Train accuracy is 0.9966785714285714\n",
      "Valid accuracy is 0.99175\n",
      "fit LABEL_34\n"
     ]
    },
    {
     "name": "stderr",
     "output_type": "stream",
     "text": [
      "/home/mustafa/anaconda3/lib/python3.6/site-packages/sklearn/linear_model/logistic.py:1544: UserWarning:\n",
      "\n",
      "'n_jobs' > 1 does not have any effect when 'solver' is set to 'liblinear'. Got 'n_jobs' = 12.\n",
      "\n"
     ]
    },
    {
     "name": "stdout",
     "output_type": "stream",
     "text": [
      "Train accuracy is 0.9939285714285714\n",
      "Valid accuracy is 0.9871666666666666\n",
      "fit LABEL_35\n"
     ]
    },
    {
     "name": "stderr",
     "output_type": "stream",
     "text": [
      "/home/mustafa/anaconda3/lib/python3.6/site-packages/sklearn/linear_model/logistic.py:1544: UserWarning:\n",
      "\n",
      "'n_jobs' > 1 does not have any effect when 'solver' is set to 'liblinear'. Got 'n_jobs' = 12.\n",
      "\n"
     ]
    },
    {
     "name": "stdout",
     "output_type": "stream",
     "text": [
      "Train accuracy is 0.9898214285714285\n",
      "Valid accuracy is 0.98075\n",
      "fit LABEL_36\n"
     ]
    },
    {
     "name": "stderr",
     "output_type": "stream",
     "text": [
      "/home/mustafa/anaconda3/lib/python3.6/site-packages/sklearn/linear_model/logistic.py:1544: UserWarning:\n",
      "\n",
      "'n_jobs' > 1 does not have any effect when 'solver' is set to 'liblinear'. Got 'n_jobs' = 12.\n",
      "\n"
     ]
    },
    {
     "name": "stdout",
     "output_type": "stream",
     "text": [
      "Train accuracy is 0.9836785714285714\n",
      "Valid accuracy is 0.9780833333333333\n",
      "fit LABEL_37\n"
     ]
    },
    {
     "name": "stderr",
     "output_type": "stream",
     "text": [
      "/home/mustafa/anaconda3/lib/python3.6/site-packages/sklearn/linear_model/logistic.py:1544: UserWarning:\n",
      "\n",
      "'n_jobs' > 1 does not have any effect when 'solver' is set to 'liblinear'. Got 'n_jobs' = 12.\n",
      "\n"
     ]
    },
    {
     "name": "stdout",
     "output_type": "stream",
     "text": [
      "Train accuracy is 0.9970357142857142\n",
      "Valid accuracy is 0.9948333333333333\n",
      "fit LABEL_38\n"
     ]
    },
    {
     "name": "stderr",
     "output_type": "stream",
     "text": [
      "/home/mustafa/anaconda3/lib/python3.6/site-packages/sklearn/linear_model/logistic.py:1544: UserWarning:\n",
      "\n",
      "'n_jobs' > 1 does not have any effect when 'solver' is set to 'liblinear'. Got 'n_jobs' = 12.\n",
      "\n"
     ]
    },
    {
     "name": "stdout",
     "output_type": "stream",
     "text": [
      "Train accuracy is 0.97125\n",
      "Valid accuracy is 0.9699166666666666\n",
      "fit LABEL_39\n"
     ]
    },
    {
     "name": "stderr",
     "output_type": "stream",
     "text": [
      "/home/mustafa/anaconda3/lib/python3.6/site-packages/sklearn/linear_model/logistic.py:1544: UserWarning:\n",
      "\n",
      "'n_jobs' > 1 does not have any effect when 'solver' is set to 'liblinear'. Got 'n_jobs' = 12.\n",
      "\n"
     ]
    },
    {
     "name": "stdout",
     "output_type": "stream",
     "text": [
      "Train accuracy is 0.9932857142857143\n",
      "Valid accuracy is 0.9858333333333333\n",
      "fit LABEL_40\n"
     ]
    },
    {
     "name": "stderr",
     "output_type": "stream",
     "text": [
      "/home/mustafa/anaconda3/lib/python3.6/site-packages/sklearn/linear_model/logistic.py:1544: UserWarning:\n",
      "\n",
      "'n_jobs' > 1 does not have any effect when 'solver' is set to 'liblinear'. Got 'n_jobs' = 12.\n",
      "\n"
     ]
    },
    {
     "name": "stdout",
     "output_type": "stream",
     "text": [
      "Train accuracy is 0.9942142857142857\n",
      "Valid accuracy is 0.9915\n",
      "fit LABEL_41\n"
     ]
    },
    {
     "name": "stderr",
     "output_type": "stream",
     "text": [
      "/home/mustafa/anaconda3/lib/python3.6/site-packages/sklearn/linear_model/logistic.py:1544: UserWarning:\n",
      "\n",
      "'n_jobs' > 1 does not have any effect when 'solver' is set to 'liblinear'. Got 'n_jobs' = 12.\n",
      "\n"
     ]
    },
    {
     "name": "stdout",
     "output_type": "stream",
     "text": [
      "Train accuracy is 0.9946071428571429\n",
      "Valid accuracy is 0.989\n",
      "fit LABEL_42\n"
     ]
    },
    {
     "name": "stderr",
     "output_type": "stream",
     "text": [
      "/home/mustafa/anaconda3/lib/python3.6/site-packages/sklearn/linear_model/logistic.py:1544: UserWarning:\n",
      "\n",
      "'n_jobs' > 1 does not have any effect when 'solver' is set to 'liblinear'. Got 'n_jobs' = 12.\n",
      "\n"
     ]
    },
    {
     "name": "stdout",
     "output_type": "stream",
     "text": [
      "Train accuracy is 0.9978214285714285\n",
      "Valid accuracy is 0.9946666666666667\n",
      "fit LABEL_43\n"
     ]
    },
    {
     "name": "stderr",
     "output_type": "stream",
     "text": [
      "/home/mustafa/anaconda3/lib/python3.6/site-packages/sklearn/linear_model/logistic.py:1544: UserWarning:\n",
      "\n",
      "'n_jobs' > 1 does not have any effect when 'solver' is set to 'liblinear'. Got 'n_jobs' = 12.\n",
      "\n"
     ]
    },
    {
     "name": "stdout",
     "output_type": "stream",
     "text": [
      "Train accuracy is 0.9988571428571429\n",
      "Valid accuracy is 0.9974166666666666\n",
      "fit LABEL_44\n"
     ]
    },
    {
     "name": "stderr",
     "output_type": "stream",
     "text": [
      "/home/mustafa/anaconda3/lib/python3.6/site-packages/sklearn/linear_model/logistic.py:1544: UserWarning:\n",
      "\n",
      "'n_jobs' > 1 does not have any effect when 'solver' is set to 'liblinear'. Got 'n_jobs' = 12.\n",
      "\n"
     ]
    },
    {
     "name": "stdout",
     "output_type": "stream",
     "text": [
      "Train accuracy is 0.9983571428571428\n",
      "Valid accuracy is 0.99575\n",
      "fit LABEL_45\n"
     ]
    },
    {
     "name": "stderr",
     "output_type": "stream",
     "text": [
      "/home/mustafa/anaconda3/lib/python3.6/site-packages/sklearn/linear_model/logistic.py:1544: UserWarning:\n",
      "\n",
      "'n_jobs' > 1 does not have any effect when 'solver' is set to 'liblinear'. Got 'n_jobs' = 12.\n",
      "\n"
     ]
    },
    {
     "name": "stdout",
     "output_type": "stream",
     "text": [
      "Train accuracy is 0.9941785714285715\n",
      "Valid accuracy is 0.98775\n",
      "fit LABEL_46\n"
     ]
    },
    {
     "name": "stderr",
     "output_type": "stream",
     "text": [
      "/home/mustafa/anaconda3/lib/python3.6/site-packages/sklearn/linear_model/logistic.py:1544: UserWarning:\n",
      "\n",
      "'n_jobs' > 1 does not have any effect when 'solver' is set to 'liblinear'. Got 'n_jobs' = 12.\n",
      "\n"
     ]
    },
    {
     "name": "stdout",
     "output_type": "stream",
     "text": [
      "Train accuracy is 0.9992857142857143\n",
      "Valid accuracy is 0.9960833333333333\n",
      "fit LABEL_47\n"
     ]
    },
    {
     "name": "stderr",
     "output_type": "stream",
     "text": [
      "/home/mustafa/anaconda3/lib/python3.6/site-packages/sklearn/linear_model/logistic.py:1544: UserWarning:\n",
      "\n",
      "'n_jobs' > 1 does not have any effect when 'solver' is set to 'liblinear'. Got 'n_jobs' = 12.\n",
      "\n"
     ]
    },
    {
     "name": "stdout",
     "output_type": "stream",
     "text": [
      "Train accuracy is 0.9993214285714286\n",
      "Valid accuracy is 0.99675\n",
      "fit LABEL_48\n"
     ]
    },
    {
     "name": "stderr",
     "output_type": "stream",
     "text": [
      "/home/mustafa/anaconda3/lib/python3.6/site-packages/sklearn/linear_model/logistic.py:1544: UserWarning:\n",
      "\n",
      "'n_jobs' > 1 does not have any effect when 'solver' is set to 'liblinear'. Got 'n_jobs' = 12.\n",
      "\n"
     ]
    },
    {
     "name": "stdout",
     "output_type": "stream",
     "text": [
      "Train accuracy is 1.0\n",
      "Valid accuracy is 0.9983333333333333\n",
      "fit LABEL_49\n"
     ]
    },
    {
     "name": "stderr",
     "output_type": "stream",
     "text": [
      "/home/mustafa/anaconda3/lib/python3.6/site-packages/sklearn/linear_model/logistic.py:1544: UserWarning:\n",
      "\n",
      "'n_jobs' > 1 does not have any effect when 'solver' is set to 'liblinear'. Got 'n_jobs' = 12.\n",
      "\n"
     ]
    },
    {
     "name": "stdout",
     "output_type": "stream",
     "text": [
      "Train accuracy is 0.9995357142857143\n",
      "Valid accuracy is 0.9969166666666667\n",
      "fit LABEL_50\n"
     ]
    },
    {
     "name": "stderr",
     "output_type": "stream",
     "text": [
      "/home/mustafa/anaconda3/lib/python3.6/site-packages/sklearn/linear_model/logistic.py:1544: UserWarning:\n",
      "\n",
      "'n_jobs' > 1 does not have any effect when 'solver' is set to 'liblinear'. Got 'n_jobs' = 12.\n",
      "\n"
     ]
    },
    {
     "name": "stdout",
     "output_type": "stream",
     "text": [
      "Train accuracy is 0.9983928571428572\n",
      "Valid accuracy is 0.9921666666666666\n",
      "fit LABEL_51\n"
     ]
    },
    {
     "name": "stderr",
     "output_type": "stream",
     "text": [
      "/home/mustafa/anaconda3/lib/python3.6/site-packages/sklearn/linear_model/logistic.py:1544: UserWarning:\n",
      "\n",
      "'n_jobs' > 1 does not have any effect when 'solver' is set to 'liblinear'. Got 'n_jobs' = 12.\n",
      "\n"
     ]
    },
    {
     "name": "stdout",
     "output_type": "stream",
     "text": [
      "Train accuracy is 1.0\n",
      "Valid accuracy is 0.9988333333333334\n",
      "fit LABEL_52\n"
     ]
    },
    {
     "name": "stderr",
     "output_type": "stream",
     "text": [
      "/home/mustafa/anaconda3/lib/python3.6/site-packages/sklearn/linear_model/logistic.py:1544: UserWarning:\n",
      "\n",
      "'n_jobs' > 1 does not have any effect when 'solver' is set to 'liblinear'. Got 'n_jobs' = 12.\n",
      "\n"
     ]
    },
    {
     "name": "stdout",
     "output_type": "stream",
     "text": [
      "Train accuracy is 0.9993928571428572\n",
      "Valid accuracy is 0.999\n",
      "fit LABEL_53\n"
     ]
    },
    {
     "name": "stderr",
     "output_type": "stream",
     "text": [
      "/home/mustafa/anaconda3/lib/python3.6/site-packages/sklearn/linear_model/logistic.py:1544: UserWarning:\n",
      "\n",
      "'n_jobs' > 1 does not have any effect when 'solver' is set to 'liblinear'. Got 'n_jobs' = 12.\n",
      "\n"
     ]
    },
    {
     "name": "stdout",
     "output_type": "stream",
     "text": [
      "Train accuracy is 0.9998571428571429\n",
      "Valid accuracy is 0.9975833333333334\n",
      "fit LABEL_54\n"
     ]
    },
    {
     "name": "stderr",
     "output_type": "stream",
     "text": [
      "/home/mustafa/anaconda3/lib/python3.6/site-packages/sklearn/linear_model/logistic.py:1544: UserWarning:\n",
      "\n",
      "'n_jobs' > 1 does not have any effect when 'solver' is set to 'liblinear'. Got 'n_jobs' = 12.\n",
      "\n"
     ]
    },
    {
     "name": "stdout",
     "output_type": "stream",
     "text": [
      "Train accuracy is 0.9997142857142857\n",
      "Valid accuracy is 0.9971666666666666\n",
      "fit LABEL_55\n"
     ]
    },
    {
     "name": "stderr",
     "output_type": "stream",
     "text": [
      "/home/mustafa/anaconda3/lib/python3.6/site-packages/sklearn/linear_model/logistic.py:1544: UserWarning:\n",
      "\n",
      "'n_jobs' > 1 does not have any effect when 'solver' is set to 'liblinear'. Got 'n_jobs' = 12.\n",
      "\n"
     ]
    },
    {
     "name": "stdout",
     "output_type": "stream",
     "text": [
      "Train accuracy is 0.9999642857142857\n",
      "Valid accuracy is 0.9975833333333334\n",
      "fit LABEL_56\n"
     ]
    },
    {
     "name": "stderr",
     "output_type": "stream",
     "text": [
      "/home/mustafa/anaconda3/lib/python3.6/site-packages/sklearn/linear_model/logistic.py:1544: UserWarning:\n",
      "\n",
      "'n_jobs' > 1 does not have any effect when 'solver' is set to 'liblinear'. Got 'n_jobs' = 12.\n",
      "\n"
     ]
    },
    {
     "name": "stdout",
     "output_type": "stream",
     "text": [
      "Train accuracy is 0.9997142857142857\n",
      "Valid accuracy is 0.9991666666666666\n"
     ]
    }
   ],
   "source": [
    "class NbSvmClassifier(BaseEstimator, ClassifierMixin):\n",
    "    def __init__(self, C=1.0, dual=False, n_jobs=1):\n",
    "        self.C = C\n",
    "        self.dual = dual\n",
    "        self.n_jobs = n_jobs\n",
    "\n",
    "    def predict(self, x):\n",
    "        # Verify that model has been fit\n",
    "        check_is_fitted(self, ['_r', '_clf'])\n",
    "        return self._clf.predict(x.multiply(self._r))\n",
    "\n",
    "    def predict_proba(self, x):\n",
    "        # Verify that model has been fit\n",
    "        check_is_fitted(self, ['_r', '_clf'])\n",
    "        return self._clf.predict_proba(x.multiply(self._r))\n",
    "\n",
    "    def fit(self, x, y):\n",
    "        # Check that X and y have correct shape\n",
    "        x, y = check_X_y(x, y, accept_sparse=True)\n",
    "\n",
    "        def pr(x, y_i, y):\n",
    "            p = x[y==y_i].sum(0)\n",
    "            return (p+1) / ((y==y_i).sum()+1)\n",
    "\n",
    "        self._r = sparse.csr_matrix(np.log(pr(x,1,y) / pr(x,0,y)))\n",
    "        x_nb = x.multiply(self._r)\n",
    "        self._clf = LogisticRegression(C=self.C, dual=self.dual, n_jobs=self.n_jobs).fit(x_nb, y)\n",
    "        return self\n",
    "    \n",
    "\n",
    "\n",
    "preds_agent = np.zeros((len(test_agent), len(label_cols)))\n",
    "preds_cust  = np.zeros((len(test_cust),  len(label_cols)))\n",
    "\n",
    "for i, category in enumerate(label_cols):\n",
    "    print('fit', category)\n",
    "    \n",
    "    modelNbSvm = NbSvmClassifier(C=1, dual=True, n_jobs=-1)\n",
    "    modelNbSvm.fit(train_term_doc, train[category])\n",
    "    \n",
    "     # Train Predict\n",
    "    prediction = modelNbSvm.predict(train_term_doc)\n",
    "    accuracy   = accuracy_score(train[category], prediction)\n",
    "    print('Train accuracy is {}'.format(accuracy))\n",
    "\n",
    "    # Valid Predict\n",
    "    prediction = modelNbSvm.predict(valid_term_doc)\n",
    "    accuracy   = accuracy_score(valid[category], prediction)\n",
    "    print('Valid accuracy is {}'.format(accuracy))\n",
    "\n",
    "    # Test Predict Agent\n",
    "    prediction = modelNbSvm.predict(test_term_agent_doc)\n",
    "    preds_agent[:,i] = prediction\n",
    "     # Test Predict Cust\n",
    "    prediction = modelNbSvm.predict(test_term_cust_doc)\n",
    "    preds_cust[:,i] = prediction\n",
    "\n",
    "\n",
    "preds_agent = pd.DataFrame(preds_agent)\n",
    "preds_agent = preds_agent.add_prefix(\"LABEL_\")\n",
    "preds_agent.to_csv(\"Results/agent_tfidf_nbsvm.csv\", index=False)\n",
    "\n",
    "preds_cust = pd.DataFrame(preds_cust)\n",
    "preds_cust = preds_cust.add_prefix(\"LABEL_\")\n",
    "preds_cust.to_csv(\"Results/cust_tfidf_nbsvm.csv\", index=False)"
   ]
  },
  {
   "cell_type": "markdown",
   "metadata": {},
   "source": [
    "# Word2Vec and GloVe"
   ]
  },
  {
   "cell_type": "code",
   "execution_count": 7,
   "metadata": {},
   "outputs": [],
   "source": [
    "from gensim.test.utils import common_texts, get_tmpfile\n",
    "from gensim.models import Word2Vec\n",
    "from gensim.models.callbacks import CallbackAny2Vec\n",
    "\n",
    "class callback(CallbackAny2Vec):\n",
    "    '''Callback to print loss after each epoch.'''\n",
    "\n",
    "    def __init__(self):\n",
    "        self.epoch = 0\n",
    "\n",
    "    def on_epoch_end(self, model):\n",
    "        loss = model.get_latest_training_loss()\n",
    "        print('Loss after epoch {}: {}'.format(self.epoch, loss))\n",
    "        self.epoch += 1\n",
    "\n",
    "word2vec_path = \"Models/word2vec.model\"\n",
    "\n",
    "if(os.path.exists(word2vec_path)):\n",
    "    word2vecModel = Word2Vec.load(word2vec_path)\n",
    "else:\n",
    "    word2vecModel = Word2Vec(train[\"LIST_TXT_agent\"] + train[\"LIST_TXT_cust\"],\n",
    "                     size=300,\n",
    "                     window=10,\n",
    "                     min_count=5,\n",
    "                     workers=12,\n",
    "                     negative=5,\n",
    "                     iter=20, #epochs\n",
    "                     sg=1, # skipgram=1   cbow=0\n",
    "                     compute_loss=True,\n",
    "                     callbacks=[callback()]) \n",
    "    word2vecModel.save(word2vec_path)"
   ]
  },
  {
   "cell_type": "code",
   "execution_count": 8,
   "metadata": {},
   "outputs": [],
   "source": [
    "# write txt for train GloVe\n",
    "with open(\"GloVe-master/glove_data.txt\", 'w') as file_handler:\n",
    "    for item in train_text:\n",
    "        file_handler.write(\"{}\\n\".format(item))   "
   ]
  },
  {
   "cell_type": "markdown",
   "metadata": {},
   "source": [
    "# Glove Dizinine Gidilip Aşağıdaki Komutların Çalıştırılması Gerek"
   ]
  },
  {
   "cell_type": "code",
   "execution_count": 9,
   "metadata": {},
   "outputs": [],
   "source": [
    "# cd GloVe-master/\n",
    "# ./demo.sh\n",
    "# cd .."
   ]
  },
  {
   "cell_type": "code",
   "execution_count": 10,
   "metadata": {},
   "outputs": [],
   "source": [
    "# convert glove to gensim format\n",
    "from gensim.models import KeyedVectors\n",
    "from gensim.scripts.glove2word2vec import glove2word2vec\n",
    "\n",
    "glove_file = \"GloVe-master/vectors.txt\"\n",
    "tmp_file   = \"GloVe-master/glove_word2vec.txt\"\n",
    "\n",
    "_ = glove2word2vec(glove_file, tmp_file)\n",
    "\n",
    "gloveModel = KeyedVectors.load_word2vec_format(tmp_file)"
   ]
  },
  {
   "cell_type": "markdown",
   "metadata": {},
   "source": [
    "# Deep Learning Part\n",
    "# Create Embedding Matrix and Train Models"
   ]
  },
  {
   "cell_type": "code",
   "execution_count": 11,
   "metadata": {},
   "outputs": [
    {
     "name": "stderr",
     "output_type": "stream",
     "text": [
      "/home/mustafa/anaconda3/lib/python3.6/site-packages/ipykernel_launcher.py:14: DeprecationWarning:\n",
      "\n",
      "Call to deprecated `syn0` (Attribute will be removed in 4.0.0, use self.vectors instead).\n",
      "\n",
      "/home/mustafa/anaconda3/lib/python3.6/site-packages/ipykernel_launcher.py:47: FutureWarning:\n",
      "\n",
      "arrays to stack must be passed as a \"sequence\" type such as list or tuple. Support for non-sequence iterables such as generators is deprecated as of NumPy 1.16 and will raise an error in the future.\n",
      "\n"
     ]
    }
   ],
   "source": [
    "from keras.preprocessing.text import Tokenizer\n",
    "from keras.preprocessing.sequence import pad_sequences\n",
    "\n",
    "from keras.layers import Dense, Input, LSTM, Embedding, Dropout, Activation\n",
    "from keras.layers import Bidirectional, GlobalMaxPool1D\n",
    "from keras.layers import Input, Embedding, Dense, Conv2D, MaxPool2D, Reshape, Concatenate, Flatten\n",
    "from keras.layers import GRU, Conv1D\n",
    "from keras.layers import GlobalAveragePooling1D, GlobalMaxPooling1D, concatenate, SpatialDropout1D\n",
    "\n",
    "from keras.models import Model\n",
    "from keras.optimizers import Adam\n",
    "\n",
    "#  ----> skipgram uncomment\n",
    "embeddings_index = dict(zip(word2vecModel.wv.index2word, word2vecModel.wv.syn0))\n",
    "# -----> GloVe uncomment\n",
    "#embeddings_index = dict(zip(gloveModel.wv.index2word, gloveModel.wv.syn0))\n",
    "\n",
    "\n",
    "\n",
    "embed_size = 300    # how big is each word vector\n",
    "max_features = len(embeddings_index) # how many unique words to use (i.e num rows in embedding vector)\n",
    "maxlen = 100        # max number of words in a comment to use\n",
    "\n",
    "\n",
    "list_sentences_train      = train_text\n",
    "list_sentences_valid      = valid_text\n",
    "list_sentences_test_agent = test_agent_text\n",
    "list_sentences_test_cust  = test_cust_text\n",
    "\n",
    "\n",
    "tokenizer = Tokenizer(num_words=max_features)\n",
    "tokenizer.fit_on_texts(list(list_sentences_train))\n",
    "\n",
    "list_tokenized_train      = tokenizer.texts_to_sequences(list_sentences_train)\n",
    "list_tokenized_valid      = tokenizer.texts_to_sequences(list_sentences_valid)\n",
    "list_tokenized_test_agent = tokenizer.texts_to_sequences(list_sentences_test_agent)\n",
    "list_tokenized_test_cust  = tokenizer.texts_to_sequences(list_sentences_test_cust)\n",
    "\n",
    "\n",
    "X_train      = pad_sequences(list_tokenized_train, maxlen=maxlen)\n",
    "X_valid      = pad_sequences(list_tokenized_valid, maxlen=maxlen)\n",
    "X_test_agent = pad_sequences(list_tokenized_test_agent,  maxlen=maxlen)\n",
    "X_test_cust  = pad_sequences(list_tokenized_test_cust,   maxlen=maxlen)\n",
    "\n",
    "\n",
    "\n",
    "all_embs = np.stack(embeddings_index.values())\n",
    "emb_mean,emb_std = all_embs.mean(), all_embs.std()\n",
    "\n",
    "\n",
    "# Embedding Matrix\n",
    "word_index = tokenizer.word_index\n",
    "nb_words = min(max_features, len(word_index))\n",
    "embedding_matrix = np.random.normal(emb_mean, emb_std, (nb_words, embed_size))\n",
    "for word, i in word_index.items():\n",
    "    if i >= max_features:\n",
    "        continue\n",
    "        \n",
    "    embedding_vector = embeddings_index.get(word)\n",
    "    \n",
    "    if embedding_vector is not None:\n",
    "        embedding_matrix[i] = embedding_vector\n",
    "        \n",
    "y_train = train[label_cols].values"
   ]
  },
  {
   "cell_type": "markdown",
   "metadata": {},
   "source": [
    "# Define Deep Learning Models"
   ]
  },
  {
   "cell_type": "code",
   "execution_count": 12,
   "metadata": {},
   "outputs": [],
   "source": [
    "def biLSTM():\n",
    "    inp = Input(shape=(maxlen,))\n",
    "    x = Embedding(max_features, embed_size, weights=[embedding_matrix])(inp)\n",
    "    x = Bidirectional(LSTM(64, return_sequences=True, dropout=0.1, recurrent_dropout=0.1))(x)\n",
    "    x = GlobalMaxPool1D()(x)\n",
    "    x = Dense(64, activation=\"relu\")(x)\n",
    "    x = Dropout(0.1)(x)\n",
    "    x = Dense(56, activation=\"sigmoid\")(x)\n",
    "    model = Model(inputs=inp, outputs=x)\n",
    "    model.compile(loss='binary_crossentropy', optimizer='adam', metrics=['accuracy'])\n",
    "    return model\n",
    "\n",
    "\n",
    "filter_sizes = [1,2,3,5]\n",
    "num_filters = 32\n",
    "\n",
    "def CNN():    \n",
    "    inp = Input(shape=(maxlen, ))\n",
    "    x = Embedding(max_features, embed_size, weights=[embedding_matrix])(inp)\n",
    "    x = SpatialDropout1D(0.4)(x)\n",
    "    x = Reshape((maxlen, embed_size, 1))(x)\n",
    "    \n",
    "    conv_0 = Conv2D(num_filters, kernel_size=(filter_sizes[0], embed_size), kernel_initializer='normal',\n",
    "                                                                                    activation='elu')(x)\n",
    "    conv_1 = Conv2D(num_filters, kernel_size=(filter_sizes[1], embed_size), kernel_initializer='normal',\n",
    "                                                                                    activation='elu')(x)\n",
    "    conv_2 = Conv2D(num_filters, kernel_size=(filter_sizes[2], embed_size), kernel_initializer='normal',\n",
    "                                                                                    activation='elu')(x)\n",
    "    conv_3 = Conv2D(num_filters, kernel_size=(filter_sizes[3], embed_size), kernel_initializer='normal',\n",
    "                                                                                    activation='elu')(x)\n",
    "    \n",
    "    maxpool_0 = MaxPool2D(pool_size=(maxlen - filter_sizes[0] + 1, 1))(conv_0)\n",
    "    maxpool_1 = MaxPool2D(pool_size=(maxlen - filter_sizes[1] + 1, 1))(conv_1)\n",
    "    maxpool_2 = MaxPool2D(pool_size=(maxlen - filter_sizes[2] + 1, 1))(conv_2)\n",
    "    maxpool_3 = MaxPool2D(pool_size=(maxlen - filter_sizes[3] + 1, 1))(conv_3)\n",
    "        \n",
    "    z = Concatenate(axis=1)([maxpool_0, maxpool_1, maxpool_2, maxpool_3])   \n",
    "    z = Flatten()(z)\n",
    "    z = Dropout(0.1)(z)\n",
    "        \n",
    "    outp = Dense(56, activation=\"sigmoid\")(z)\n",
    "    \n",
    "    model = Model(inputs=inp, outputs=outp)\n",
    "    model.compile(loss='binary_crossentropy',\n",
    "                  optimizer='adam',\n",
    "                  metrics=['accuracy'])\n",
    "\n",
    "    return model\n",
    "\n",
    "def biGRU_CNN():\n",
    "\n",
    "    sequence_input = Input(shape=(maxlen, ))\n",
    "    \n",
    "    x = Embedding(max_features,\n",
    "                  embed_size,\n",
    "                  weights=[embedding_matrix],\n",
    "                  trainable = False)(sequence_input)\n",
    "    \n",
    "    x = SpatialDropout1D(0.2)(x)\n",
    "    x = Bidirectional(GRU(128, return_sequences=True,dropout=0.1,recurrent_dropout=0.1))(x)\n",
    "    x = Conv1D(64, kernel_size = 3, padding = \"valid\", kernel_initializer = \"glorot_uniform\")(x)\n",
    "    \n",
    "    avg_pool = GlobalAveragePooling1D()(x)\n",
    "    max_pool = GlobalMaxPooling1D()(x)\n",
    "    \n",
    "    x = concatenate([avg_pool, max_pool]) \n",
    "    \n",
    "    preds = Dense(56, activation=\"sigmoid\")(x)\n",
    "    \n",
    "    model = Model(sequence_input, preds)\n",
    "    model.compile(loss='binary_crossentropy',\n",
    "                  optimizer=Adam(lr=1e-3),\n",
    "                  metrics=['accuracy'])\n",
    "    \n",
    "    return model"
   ]
  },
  {
   "cell_type": "code",
   "execution_count": 13,
   "metadata": {},
   "outputs": [
    {
     "name": "stdout",
     "output_type": "stream",
     "text": [
      "WARNING:tensorflow:From /home/mustafa/.local/lib/python3.6/site-packages/tensorflow/python/framework/op_def_library.py:263: colocate_with (from tensorflow.python.framework.ops) is deprecated and will be removed in a future version.\n",
      "Instructions for updating:\n",
      "Colocations handled automatically by placer.\n",
      "WARNING:tensorflow:From /home/mustafa/anaconda3/lib/python3.6/site-packages/keras/backend/tensorflow_backend.py:3445: calling dropout (from tensorflow.python.ops.nn_ops) with keep_prob is deprecated and will be removed in a future version.\n",
      "Instructions for updating:\n",
      "Please use `rate` instead of `keep_prob`. Rate should be set to `rate = 1 - keep_prob`.\n",
      "WARNING:tensorflow:From /home/mustafa/.local/lib/python3.6/site-packages/tensorflow/python/ops/math_ops.py:3066: to_int32 (from tensorflow.python.ops.math_ops) is deprecated and will be removed in a future version.\n",
      "Instructions for updating:\n",
      "Use tf.cast instead.\n",
      "WARNING:tensorflow:From /home/mustafa/.local/lib/python3.6/site-packages/tensorflow/python/ops/math_grad.py:102: div (from tensorflow.python.ops.math_ops) is deprecated and will be removed in a future version.\n",
      "Instructions for updating:\n",
      "Deprecated in favor of operator or tf.math.divide.\n",
      "Train on 22400 samples, validate on 5600 samples\n",
      "Epoch 1/8\n",
      "22400/22400 [==============================] - 21s 923us/step - loss: 0.2929 - acc: 0.8870 - val_loss: 0.1565 - val_acc: 0.9563\n",
      "Epoch 2/8\n",
      "22400/22400 [==============================] - 20s 872us/step - loss: 0.1641 - acc: 0.9557 - val_loss: 0.1544 - val_acc: 0.9563\n",
      "Epoch 3/8\n",
      "22400/22400 [==============================] - 20s 886us/step - loss: 0.1599 - acc: 0.9563 - val_loss: 0.1502 - val_acc: 0.9578\n",
      "Epoch 4/8\n",
      "22400/22400 [==============================] - 19s 864us/step - loss: 0.1534 - acc: 0.9573 - val_loss: 0.1444 - val_acc: 0.9584\n",
      "Epoch 5/8\n",
      "22400/22400 [==============================] - 19s 864us/step - loss: 0.1480 - acc: 0.9582 - val_loss: 0.1399 - val_acc: 0.9595\n",
      "Epoch 6/8\n",
      "22400/22400 [==============================] - 20s 871us/step - loss: 0.1425 - acc: 0.9592 - val_loss: 0.1345 - val_acc: 0.9605\n",
      "Epoch 7/8\n",
      "22400/22400 [==============================] - 20s 876us/step - loss: 0.1362 - acc: 0.9601 - val_loss: 0.1291 - val_acc: 0.9611\n",
      "Epoch 8/8\n",
      "22400/22400 [==============================] - 20s 903us/step - loss: 0.1311 - acc: 0.9608 - val_loss: 0.1249 - val_acc: 0.9619\n",
      "12721/12721 [==============================] - 2s 122us/step\n",
      "12721/12721 [==============================] - 1s 99us/step\n",
      "Train on 22400 samples, validate on 5600 samples\n",
      "Epoch 1/8\n",
      "22400/22400 [==============================] - 5s 211us/step - loss: 0.2225 - acc: 0.9251 - val_loss: 0.1524 - val_acc: 0.9580\n",
      "Epoch 2/8\n",
      "22400/22400 [==============================] - 3s 146us/step - loss: 0.1528 - acc: 0.9580 - val_loss: 0.1392 - val_acc: 0.9605\n",
      "Epoch 3/8\n",
      "22400/22400 [==============================] - 3s 147us/step - loss: 0.1421 - acc: 0.9594 - val_loss: 0.1314 - val_acc: 0.9618\n",
      "Epoch 4/8\n",
      "22400/22400 [==============================] - 3s 148us/step - loss: 0.1349 - acc: 0.9606 - val_loss: 0.1265 - val_acc: 0.9629\n",
      "Epoch 5/8\n",
      "22400/22400 [==============================] - 3s 147us/step - loss: 0.1305 - acc: 0.9614 - val_loss: 0.1248 - val_acc: 0.9633\n",
      "Epoch 6/8\n",
      "22400/22400 [==============================] - 3s 152us/step - loss: 0.1270 - acc: 0.9619 - val_loss: 0.1217 - val_acc: 0.9637\n",
      "Epoch 7/8\n",
      "22400/22400 [==============================] - 3s 145us/step - loss: 0.1241 - acc: 0.9625 - val_loss: 0.1204 - val_acc: 0.9639\n",
      "Epoch 8/8\n",
      "22400/22400 [==============================] - 3s 147us/step - loss: 0.1215 - acc: 0.9629 - val_loss: 0.1193 - val_acc: 0.9641\n",
      "12721/12721 [==============================] - 1s 93us/step\n",
      "12721/12721 [==============================] - 1s 45us/step\n",
      "Train on 22400 samples, validate on 5600 samples\n",
      "Epoch 1/8\n",
      "22400/22400 [==============================] - 16s 702us/step - loss: 0.2233 - acc: 0.9200 - val_loss: 0.1555 - val_acc: 0.9563\n",
      "Epoch 2/8\n",
      "22400/22400 [==============================] - 14s 638us/step - loss: 0.1536 - acc: 0.9570 - val_loss: 0.1447 - val_acc: 0.9590\n",
      "Epoch 3/8\n",
      "22400/22400 [==============================] - 16s 703us/step - loss: 0.1420 - acc: 0.9592 - val_loss: 0.1338 - val_acc: 0.9606\n",
      "Epoch 4/8\n",
      "22400/22400 [==============================] - 15s 669us/step - loss: 0.1328 - acc: 0.9603 - val_loss: 0.1268 - val_acc: 0.9615\n",
      "Epoch 5/8\n",
      "22400/22400 [==============================] - 14s 639us/step - loss: 0.1270 - acc: 0.9612 - val_loss: 0.1229 - val_acc: 0.9623\n",
      "Epoch 6/8\n",
      "22400/22400 [==============================] - 14s 646us/step - loss: 0.1230 - acc: 0.9619 - val_loss: 0.1199 - val_acc: 0.9629\n",
      "Epoch 7/8\n",
      "22400/22400 [==============================] - 15s 662us/step - loss: 0.1198 - acc: 0.9627 - val_loss: 0.1183 - val_acc: 0.9632\n",
      "Epoch 8/8\n",
      "22400/22400 [==============================] - 15s 677us/step - loss: 0.1170 - acc: 0.9633 - val_loss: 0.1162 - val_acc: 0.9638\n",
      "12721/12721 [==============================] - 2s 149us/step\n",
      "12721/12721 [==============================] - 2s 121us/step\n"
     ]
    }
   ],
   "source": [
    "models = [biLSTM(), CNN(), biGRU_CNN()]\n",
    "names  = [\"biLSTM\", \"CNN\", \"biGRU_CNN\"]\n",
    "\n",
    "for name, model in zip(names, models):\n",
    "    model.fit(X_train,\n",
    "              y_train,\n",
    "              batch_size=256,\n",
    "              epochs=8,\n",
    "              validation_split=0.2)\n",
    "  \n",
    "    predictions = model.predict([X_test_cust], batch_size=1024, verbose=1)\n",
    "    \n",
    "    predictions = pd.DataFrame(predictions)\n",
    "    predictions = predictions.add_prefix(\"LABEL_\")\n",
    "    predictions.to_csv(\"Results/cust_\" + name + \".csv\", index=False)\n",
    "    \n",
    "    \n",
    "    predictions = model.predict([X_test_agent], batch_size=1024, verbose=1)\n",
    "    \n",
    "    predictions = pd.DataFrame(predictions)\n",
    "    predictions = predictions.add_prefix(\"LABEL_\")\n",
    "    predictions.to_csv(\"Results/agent_\" + name + \".csv\", index=False)"
   ]
  },
  {
   "cell_type": "code",
   "execution_count": 14,
   "metadata": {
    "scrolled": true
   },
   "outputs": [
    {
     "name": "stdout",
     "output_type": "stream",
     "text": [
      "28000/28000 [==============================] - 3s 124us/step\n",
      "LABEL_0 Train accuracy is 0.9132142857142858\n",
      "LABEL_1 Train accuracy is 0.8383571428571429\n",
      "LABEL_2 Train accuracy is 0.9030714285714285\n",
      "LABEL_3 Train accuracy is 0.8939285714285714\n",
      "LABEL_4 Train accuracy is 0.9429642857142857\n",
      "LABEL_5 Train accuracy is 0.9519642857142857\n",
      "LABEL_6 Train accuracy is 0.9306428571428571\n",
      "LABEL_7 Train accuracy is 0.9430357142857143\n",
      "LABEL_8 Train accuracy is 0.9233928571428571\n",
      "LABEL_9 Train accuracy is 0.8798571428571429\n",
      "LABEL_10 Train accuracy is 0.9652142857142857\n",
      "LABEL_11 Train accuracy is 0.9470714285714286\n",
      "LABEL_12 Train accuracy is 0.9258214285714286\n",
      "LABEL_13 Train accuracy is 0.9276785714285715\n",
      "LABEL_14 Train accuracy is 0.9693571428571428\n",
      "LABEL_15 Train accuracy is 0.9786785714285714\n",
      "LABEL_16 Train accuracy is 0.9049642857142857\n",
      "LABEL_17 Train accuracy is 0.9263214285714285\n",
      "LABEL_18 Train accuracy is 0.9632857142857143\n",
      "LABEL_19 Train accuracy is 0.9471428571428572\n",
      "LABEL_20 Train accuracy is 0.9730714285714286\n",
      "LABEL_21 Train accuracy is 0.9485714285714286\n",
      "LABEL_22 Train accuracy is 0.9694642857142857\n",
      "LABEL_23 Train accuracy is 0.9844642857142857\n",
      "LABEL_24 Train accuracy is 0.9653214285714286\n",
      "LABEL_25 Train accuracy is 0.96775\n",
      "LABEL_26 Train accuracy is 0.9838214285714286\n",
      "LABEL_27 Train accuracy is 0.9797857142857143\n",
      "LABEL_28 Train accuracy is 0.9829285714285714\n",
      "LABEL_29 Train accuracy is 0.9678928571428571\n",
      "LABEL_30 Train accuracy is 0.9805714285714285\n",
      "LABEL_31 Train accuracy is 0.9708928571428571\n",
      "LABEL_32 Train accuracy is 0.9852142857142857\n",
      "LABEL_33 Train accuracy is 0.9822142857142857\n",
      "LABEL_34 Train accuracy is 0.9748571428571429\n",
      "LABEL_35 Train accuracy is 0.97575\n",
      "LABEL_36 Train accuracy is 0.9885714285714285\n",
      "LABEL_37 Train accuracy is 0.9661428571428572\n",
      "LABEL_38 Train accuracy is 0.9794285714285714\n",
      "LABEL_39 Train accuracy is 0.9860357142857142\n",
      "LABEL_40 Train accuracy is 0.9801428571428571\n",
      "LABEL_41 Train accuracy is 0.9919285714285714\n",
      "LABEL_42 Train accuracy is 0.9936428571428572\n",
      "LABEL_43 Train accuracy is 0.9876428571428572\n",
      "LABEL_44 Train accuracy is 0.9858571428571429\n",
      "LABEL_45 Train accuracy is 0.9941428571428571\n",
      "LABEL_46 Train accuracy is 0.9962857142857143\n",
      "LABEL_47 Train accuracy is 0.9983571428571428\n",
      "LABEL_48 Train accuracy is 0.9945\n",
      "LABEL_49 Train accuracy is 0.9925\n",
      "LABEL_50 Train accuracy is 0.9987857142857143\n",
      "LABEL_51 Train accuracy is 0.9956785714285714\n",
      "LABEL_52 Train accuracy is 0.9956785714285714\n",
      "LABEL_53 Train accuracy is 0.9967142857142857\n",
      "LABEL_54 Train accuracy is 0.9975357142857143\n",
      "LABEL_55 Train accuracy is 0.997\n",
      "12000/12000 [==============================] - 2s 125us/step\n",
      "LABEL_0 Valid accuracy is 0.9155833333333333\n",
      "LABEL_1 Valid accuracy is 0.8278333333333333\n",
      "LABEL_2 Valid accuracy is 0.9033333333333333\n",
      "LABEL_3 Valid accuracy is 0.8883333333333333\n",
      "LABEL_4 Valid accuracy is 0.942\n",
      "LABEL_5 Valid accuracy is 0.9446666666666667\n",
      "LABEL_6 Valid accuracy is 0.9271666666666667\n",
      "LABEL_7 Valid accuracy is 0.9405\n",
      "LABEL_8 Valid accuracy is 0.924\n",
      "LABEL_9 Valid accuracy is 0.8746666666666667\n",
      "LABEL_10 Valid accuracy is 0.96375\n",
      "LABEL_11 Valid accuracy is 0.9456666666666667\n",
      "LABEL_12 Valid accuracy is 0.9240833333333334\n",
      "LABEL_13 Valid accuracy is 0.9246666666666666\n",
      "LABEL_14 Valid accuracy is 0.9703333333333334\n",
      "LABEL_15 Valid accuracy is 0.9779166666666667\n",
      "LABEL_16 Valid accuracy is 0.9074166666666666\n",
      "LABEL_17 Valid accuracy is 0.92375\n",
      "LABEL_18 Valid accuracy is 0.96275\n",
      "LABEL_19 Valid accuracy is 0.9479166666666666\n",
      "LABEL_20 Valid accuracy is 0.973\n",
      "LABEL_21 Valid accuracy is 0.9425833333333333\n",
      "LABEL_22 Valid accuracy is 0.9700833333333333\n",
      "LABEL_23 Valid accuracy is 0.9843333333333333\n",
      "LABEL_24 Valid accuracy is 0.97\n",
      "LABEL_25 Valid accuracy is 0.969\n",
      "LABEL_26 Valid accuracy is 0.9840833333333333\n",
      "LABEL_27 Valid accuracy is 0.97825\n",
      "LABEL_28 Valid accuracy is 0.9820833333333333\n",
      "LABEL_29 Valid accuracy is 0.9671666666666666\n",
      "LABEL_30 Valid accuracy is 0.9801666666666666\n",
      "LABEL_31 Valid accuracy is 0.9703333333333334\n",
      "LABEL_32 Valid accuracy is 0.9849166666666667\n",
      "LABEL_33 Valid accuracy is 0.9814166666666667\n",
      "LABEL_34 Valid accuracy is 0.9734166666666667\n",
      "LABEL_35 Valid accuracy is 0.975\n",
      "LABEL_36 Valid accuracy is 0.9886666666666667\n",
      "LABEL_37 Valid accuracy is 0.9700833333333333\n",
      "LABEL_38 Valid accuracy is 0.97725\n",
      "LABEL_39 Valid accuracy is 0.9870833333333333\n",
      "LABEL_40 Valid accuracy is 0.98\n",
      "LABEL_41 Valid accuracy is 0.9933333333333333\n",
      "LABEL_42 Valid accuracy is 0.99525\n",
      "LABEL_43 Valid accuracy is 0.98775\n",
      "LABEL_44 Valid accuracy is 0.98675\n",
      "LABEL_45 Valid accuracy is 0.9938333333333333\n",
      "LABEL_46 Valid accuracy is 0.99675\n",
      "LABEL_47 Valid accuracy is 0.9983333333333333\n",
      "LABEL_48 Valid accuracy is 0.9941666666666666\n",
      "LABEL_49 Valid accuracy is 0.9923333333333333\n",
      "LABEL_50 Valid accuracy is 0.9988333333333334\n",
      "LABEL_51 Valid accuracy is 0.99625\n",
      "LABEL_52 Valid accuracy is 0.9970833333333333\n",
      "LABEL_53 Valid accuracy is 0.9971666666666666\n",
      "LABEL_54 Valid accuracy is 0.9975833333333334\n",
      "LABEL_55 Valid accuracy is 0.99775\n"
     ]
    }
   ],
   "source": [
    "predictions = model.predict([X_train], batch_size=1024, verbose=1)\n",
    "for category in range(predictions.shape[1]):\n",
    "\n",
    "    prediction = predictions[:, category]\n",
    "    prediction[prediction > 0.5] = 1\n",
    "    prediction[prediction < 0.5] = 0\n",
    "    prediction = prediction.astype(int)\n",
    "    # Train acc\n",
    "    accuracy   = accuracy_score(y_train[:,category], prediction)\n",
    "    print('LABEL_{} Train accuracy is {}'.format(category, accuracy))\n",
    "    \n",
    "predictions = model.predict([X_valid], batch_size=1024, verbose=1)\n",
    "for category in range(predictions.shape[1]):\n",
    "\n",
    "    prediction = predictions[:, category]\n",
    "    prediction[prediction > 0.5] = 1\n",
    "    prediction[prediction < 0.5] = 0\n",
    "    prediction = prediction.astype(int)\n",
    "    # Val acc\n",
    "    accuracy   = accuracy_score(y_valid.iloc[:, category], prediction)\n",
    "    print('LABEL_{} Valid accuracy is {}'.format(category, accuracy))"
   ]
  }
 ],
 "metadata": {
  "kernelspec": {
   "display_name": "chatbot",
   "language": "python",
   "name": "chatbot"
  },
  "language_info": {
   "codemirror_mode": {
    "name": "ipython",
    "version": 3
   },
   "file_extension": ".py",
   "mimetype": "text/x-python",
   "name": "python",
   "nbconvert_exporter": "python",
   "pygments_lexer": "ipython3",
   "version": "3.6.8"
  }
 },
 "nbformat": 4,
 "nbformat_minor": 2
}
